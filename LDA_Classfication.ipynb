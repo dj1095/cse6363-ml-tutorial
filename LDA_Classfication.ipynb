{
 "cells": [
  {
   "cell_type": "code",
   "execution_count": 115,
   "id": "303cf927",
   "metadata": {},
   "outputs": [],
   "source": [
    "import numpy as np\n",
    "import matplotlib.pyplot as plt\n",
    "from sklearn import datasets\n",
    "from sklearn.model_selection import train_test_split\n",
    "\n",
    "%matplotlib widget"
   ]
  },
  {
   "cell_type": "code",
   "execution_count": 116,
   "id": "6eb75cae",
   "metadata": {},
   "outputs": [],
   "source": [
    "def get_one_hot(targets, nb_classes):\n",
    "    res = np.eye(nb_classes)[np.array(targets).reshape(-1)]\n",
    "    return res.reshape(list(targets.shape)+[nb_classes])"
   ]
  },
  {
   "cell_type": "code",
   "execution_count": 117,
   "id": "ca0adcd3",
   "metadata": {},
   "outputs": [],
   "source": [
    "class LinearDiscriminant: \n",
    "    \n",
    "    def accuracy(self,y_pred,y_actual):\n",
    "        return (y_pred == y_actual).sum()/len(y_actual)\n",
    "    \n",
    "    def fit(self, data, targets):\n",
    "        num_classes = np.max(targets, axis=0) + 1\n",
    "        #data = np.concatenate((np.ones((data.shape[0], 1)), data), axis=-1)\n",
    "        targets = get_one_hot(targets, num_classes)\n",
    "        self.weights_ = np.linalg.inv(data.T @ data) @ data.T @ targets\n",
    "        \n",
    "    def predict(self, x):\n",
    "        \"\"\"Classify input sample(s)\n",
    "        \n",
    "        Parameters\n",
    "        ----------\n",
    "        x : array-like, [n_samples, n_features]\n",
    "            Samples\n",
    "        \n",
    "        Returns\n",
    "        -------\n",
    "        result : array-like, int, [n_samples]\n",
    "            Corresponding prediction(s)\n",
    "        \"\"\"\n",
    "        # Add constant for bias parameter\n",
    "        #x = np.concatenate((np.ones((x.shape[0], 1)), x), axis=-1)\n",
    "            \n",
    "        return np.argmax(self.weights_.T @ x.T, axis=0)"
   ]
  },
  {
   "cell_type": "code",
   "execution_count": 118,
   "id": "e33b5fda",
   "metadata": {},
   "outputs": [],
   "source": [
    "iris_dataset = datasets.load_iris()\n",
    "x = iris_dataset.data\n",
    "y = iris_dataset.target\n",
    "feature_names = iris_dataset.feature_names\n",
    "target_classes = iris_dataset.target_names\n",
    "train_split,test_split,train_y_split,test_y_split = train_test_split(x,y,test_size=0.1,random_state=123)"
   ]
  },
  {
   "cell_type": "code",
   "execution_count": 119,
   "id": "16a88d9c",
   "metadata": {},
   "outputs": [
    {
     "name": "stdout",
     "output_type": "stream",
     "text": [
      "Accuracy :0.8666666666666667\n"
     ]
    }
   ],
   "source": [
    "classifier = LinearDiscriminant()\n",
    "classifier.fit(train_split, train_y_split)\n",
    "y_pred = classifier.predict(test_split)\n",
    "print('Accuracy :{}'.format(classifier.accuracy(y_pred,test_y_split)))"
   ]
  },
  {
   "cell_type": "code",
   "execution_count": 120,
   "id": "7094f1f7",
   "metadata": {},
   "outputs": [
    {
     "data": {
      "text/plain": [
       "array([1, 2, 2, 2, 0, 2, 1, 0, 0, 1, 2, 0, 2, 2, 2], dtype=int64)"
      ]
     },
     "execution_count": 120,
     "metadata": {},
     "output_type": "execute_result"
    }
   ],
   "source": [
    "y_pred"
   ]
  },
  {
   "cell_type": "code",
   "execution_count": 121,
   "id": "38f05eaf",
   "metadata": {},
   "outputs": [
    {
     "data": {
      "text/plain": [
       "array([1, 2, 2, 1, 0, 2, 1, 0, 0, 1, 2, 0, 1, 2, 2])"
      ]
     },
     "execution_count": 121,
     "metadata": {},
     "output_type": "execute_result"
    }
   ],
   "source": [
    "test_y_split"
   ]
  },
  {
   "cell_type": "code",
   "execution_count": null,
   "id": "8e3c14d5",
   "metadata": {},
   "outputs": [],
   "source": []
  },
  {
   "cell_type": "code",
   "execution_count": null,
   "id": "b56e4d1d",
   "metadata": {},
   "outputs": [],
   "source": []
  },
  {
   "cell_type": "code",
   "execution_count": null,
   "id": "f778e775",
   "metadata": {},
   "outputs": [],
   "source": [
    "\n"
   ]
  },
  {
   "cell_type": "code",
   "execution_count": null,
   "id": "e1928d83",
   "metadata": {},
   "outputs": [],
   "source": []
  }
 ],
 "metadata": {
  "kernelspec": {
   "display_name": "Python [conda env:cse6363] *",
   "language": "python",
   "name": "conda-env-cse6363-py"
  },
  "language_info": {
   "codemirror_mode": {
    "name": "ipython",
    "version": 3
   },
   "file_extension": ".py",
   "mimetype": "text/x-python",
   "name": "python",
   "nbconvert_exporter": "python",
   "pygments_lexer": "ipython3",
   "version": "3.9.12"
  }
 },
 "nbformat": 4,
 "nbformat_minor": 5
}
