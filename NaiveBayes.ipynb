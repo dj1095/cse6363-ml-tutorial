{
 "cells": [
  {
   "cell_type": "code",
   "execution_count": 25,
   "id": "71cfb49e",
   "metadata": {},
   "outputs": [],
   "source": [
    "import numpy as np\n",
    "from sklearn import datasets\n",
    "import matplotlib.pyplot as plt\n",
    "from sklearn.model_selection import train_test_split\n",
    "\n",
    "%matplotlib widget"
   ]
  },
  {
   "cell_type": "code",
   "execution_count": 40,
   "id": "fbe7b83f",
   "metadata": {},
   "outputs": [],
   "source": [
    "class NaiveBayes:\n",
    "    \n",
    "    def fit(self,X,y):\n",
    "        n_samples,n_features = X.shape\n",
    "        self.unique_cls = np.unique(y)\n",
    "        tot_distinct_cls = len(self.unique_cls)\n",
    "        self.cls_mean = np.zeros((tot_distinct_cls,n_features),dtype = np.float64)\n",
    "        self.cls_var = np.zeros((tot_distinct_cls,n_features),dtype = np.float64)\n",
    "        self.prior_probs = np.zeros(tot_distinct_cls, dtype = np.float64)\n",
    "        for cls in self.unique_cls:\n",
    "            X_cls = X[cls == y]\n",
    "            self.cls_mean[cls,:] = X_cls.mean(axis=0)\n",
    "            self.cls_var[cls,:] = X_cls.var(axis=0)\n",
    "            self.prior_probs[cls] = X_cls.shape[0]/float(n_samples)\n",
    "        return self\n",
    "    \n",
    "    def get_max_prob_cls(self,x):\n",
    "        prob = []\n",
    "        for i, cls in enumerate(self.unique_cls):\n",
    "            prior_prob = np.log(self.prior_probs[i])\n",
    "            mean = self.cls_mean[i]\n",
    "            var = self.cls_mean[i]\n",
    "            pdf_val = (np.exp(-(x-mean)**2/(2*var)))/(np.sqrt(2*np.pi*var))\n",
    "            cond_prob = np.sum(np.log(pdf_val))\n",
    "            prob.append(prior_prob+cond_prob)\n",
    "        max_prob_idx = np.argmax(prob)\n",
    "        return self.unique_cls[max_prob_idx]\n",
    "    \n",
    "    def predict(self,X):\n",
    "        y_pred = [self.get_max_prob_cls(x) for x in X]\n",
    "        return y_pred\n",
    "    \n",
    "    def accuracy(self,y_pred,y_actual):\n",
    "        return (y_pred == y_actual).sum()/len(y_actual)\n",
    "    "
   ]
  },
  {
   "cell_type": "code",
   "execution_count": 44,
   "id": "c6902b0d",
   "metadata": {},
   "outputs": [],
   "source": [
    "iris_dataset = datasets.load_iris()\n",
    "x = iris_dataset.data\n",
    "y = iris_dataset.target\n",
    "feature_names = iris_dataset.feature_names\n",
    "target_classes = iris_dataset.target_names\n",
    "train_split,test_split,train_y_split,test_y_split = train_test_split(x,y,test_size=0.1,random_state=123)"
   ]
  },
  {
   "cell_type": "code",
   "execution_count": 45,
   "id": "1621d417",
   "metadata": {},
   "outputs": [
    {
     "name": "stdout",
     "output_type": "stream",
     "text": [
      "Accuracy : 0.8666666666666667\n"
     ]
    }
   ],
   "source": [
    "nb = NaiveBayes().fit(train_split,train_y_split)\n",
    "y_pred = nb.predict(test_split)\n",
    "accuracy = nb.accuracy(y_pred,test_y_split)\n",
    "print('Accuracy : {}'.format(accuracy))"
   ]
  },
  {
   "cell_type": "code",
   "execution_count": 46,
   "id": "8809fbfa",
   "metadata": {},
   "outputs": [
    {
     "data": {
      "text/plain": [
       "[1, 2, 2, 1, 0, 1, 1, 0, 0, 1, 2, 0, 1, 1, 2]"
      ]
     },
     "execution_count": 46,
     "metadata": {},
     "output_type": "execute_result"
    }
   ],
   "source": [
    "y_pred"
   ]
  },
  {
   "cell_type": "code",
   "execution_count": 47,
   "id": "de654702",
   "metadata": {},
   "outputs": [
    {
     "data": {
      "text/plain": [
       "array([1, 2, 2, 1, 0, 2, 1, 0, 0, 1, 2, 0, 1, 2, 2])"
      ]
     },
     "execution_count": 47,
     "metadata": {},
     "output_type": "execute_result"
    }
   ],
   "source": [
    "test_y_split"
   ]
  },
  {
   "cell_type": "code",
   "execution_count": 39,
   "id": "57257d9b",
   "metadata": {},
   "outputs": [
    {
     "data": {
      "text/plain": [
       "13"
      ]
     },
     "execution_count": 39,
     "metadata": {},
     "output_type": "execute_result"
    }
   ],
   "source": []
  },
  {
   "cell_type": "code",
   "execution_count": null,
   "id": "e51c83fa",
   "metadata": {},
   "outputs": [],
   "source": []
  }
 ],
 "metadata": {
  "kernelspec": {
   "display_name": "Python [conda env:cse6363] *",
   "language": "python",
   "name": "conda-env-cse6363-py"
  },
  "language_info": {
   "codemirror_mode": {
    "name": "ipython",
    "version": 3
   },
   "file_extension": ".py",
   "mimetype": "text/x-python",
   "name": "python",
   "nbconvert_exporter": "python",
   "pygments_lexer": "ipython3",
   "version": "3.9.12"
  }
 },
 "nbformat": 4,
 "nbformat_minor": 5
}
