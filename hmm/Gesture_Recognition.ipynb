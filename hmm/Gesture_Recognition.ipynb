{
 "cells": [
  {
   "cell_type": "code",
   "execution_count": 93,
   "metadata": {},
   "outputs": [],
   "source": [
    "import pandas as pd\n",
    "import numpy as np \n",
    "\n",
    "from sklearn.model_selection import train_test_split\n",
    "from hmmlearn import hmm"
   ]
  },
  {
   "cell_type": "markdown",
   "metadata": {},
   "source": [
    "<h3>Data Preprocessing</h3>"
   ]
  },
  {
   "cell_type": "code",
   "execution_count": 94,
   "metadata": {},
   "outputs": [],
   "source": [
    "original_data = pd.read_csv('./dataset/Original_Dataset.csv')\n",
    "pre_processed_data = pd.concat([original_data.loc[:,'LC_X_1':'LC_Y_30'] , original_data.loc[:,'RC_X_1':'RC_Y_30']], join = 'outer', axis = 1)\n",
    "#dataset_with_target = pd.concat([pre_processed_data,original_data['Gesture']],join = 'outer', axis = 1)\n",
    "pre_processed_data = pre_processed_data.to_numpy()"
   ]
  },
  {
   "cell_type": "code",
   "execution_count": 95,
   "metadata": {},
   "outputs": [
    {
     "data": {
      "text/plain": [
       "{'ZoomIn': 1,\n",
       " 'ZoomOut': 2,\n",
       " 'MoveLeft': 3,\n",
       " 'MoveRight': 4,\n",
       " 'MoveDown': 5,\n",
       " 'MoveUp': 6,\n",
       " 'Press': 7}"
      ]
     },
     "execution_count": 95,
     "metadata": {},
     "output_type": "execute_result"
    }
   ],
   "source": [
    "dict_cls = {}\n",
    "for count , val in enumerate(original_data['Gesture'].unique()):\n",
    "    dict_cls[val] = count+1\n",
    "\n",
    "dict_cls"
   ]
  },
  {
   "cell_type": "code",
   "execution_count": 96,
   "metadata": {},
   "outputs": [],
   "source": [
    "idx_cls =[]\n",
    "for x in original_data['Gesture']:\n",
    "    idx_cls.append(dict_cls[x])\n",
    "\n",
    "idx_cls = np.array(idx_cls)"
   ]
  },
  {
   "cell_type": "markdown",
   "metadata": {},
   "source": [
    "<h3>Normalization</h3>"
   ]
  },
  {
   "cell_type": "code",
   "execution_count": 97,
   "metadata": {},
   "outputs": [],
   "source": [
    "normalized_data = (pre_processed_data- np.min(pre_processed_data,axis=0))/(np.max(pre_processed_data,axis=0) - np.min(pre_processed_data,axis=0))"
   ]
  },
  {
   "cell_type": "code",
   "execution_count": 98,
   "metadata": {},
   "outputs": [
    {
     "data": {
      "text/plain": [
       "(350, 30, 4)"
      ]
     },
     "execution_count": 98,
     "metadata": {},
     "output_type": "execute_result"
    }
   ],
   "source": [
    "data = normalized_data.reshape(350,4,30).transpose((0,2,1))\n",
    "data.shape"
   ]
  },
  {
   "cell_type": "code",
   "execution_count": 99,
   "metadata": {},
   "outputs": [],
   "source": [
    "X_train_1,X_test_1,y_train_1,y_test_1 = train_test_split(data[0:50],idx_cls[0:50],test_size=0.2,random_state=122)\n",
    "X_train_2,X_test_2,y_train_2,y_test_2 = train_test_split(data[50:100],idx_cls[50:100],test_size=0.2,random_state=122)\n",
    "X_train_3,X_test_3,y_train_3,y_test_3 = train_test_split(data[100:150],idx_cls[100:150],test_size=0.2,random_state=122)\n",
    "X_train_4,X_test_4,y_train_4,y_test_4 = train_test_split(data[150:200],idx_cls[150:200],test_size=0.2,random_state=122)\n",
    "X_train_5,X_test_5,y_train_5,y_test_5 = train_test_split(data[200:250],idx_cls[200:250],test_size=0.2,random_state=122)\n",
    "X_train_6,X_test_6,y_train_6,y_test_6 = train_test_split(data[250:300],idx_cls[250:300],test_size=0.2,random_state=122)\n",
    "X_train_7,X_test_7,y_train_7,y_test_7 = train_test_split(data[300:350],idx_cls[300:350],test_size=0.2,random_state=122)"
   ]
  },
  {
   "cell_type": "code",
   "execution_count": 100,
   "metadata": {},
   "outputs": [
    {
     "data": {
      "text/plain": [
       "GaussianHMM(n_components=3)"
      ]
     },
     "execution_count": 100,
     "metadata": {},
     "output_type": "execute_result"
    }
   ],
   "source": [
    "model_1 = hmm.GaussianHMM(n_components=3)\n",
    "model_1.fit(X_train_1.reshape(-1,4))\n",
    "#model_1.score(X_train_1.reshape(-1,4))\n",
    "\n",
    "model_2 = hmm.GaussianHMM(n_components=3)\n",
    "model_2.fit(X_train_2.reshape(-1,4))\n",
    "#model_2.score(X_train_2.reshape(-1,4))\n",
    "\n",
    "model_3 = hmm.GaussianHMM(n_components=3)\n",
    "model_3.fit(X_train_3.reshape(-1,4))\n",
    "#model_3.score(X_train_3.reshape(-1,4))\n",
    "\n",
    "\n",
    "model_4 = hmm.GaussianHMM(n_components=3)\n",
    "model_4.fit(X_train_4.reshape(-1,4))\n",
    "#model_4.score(X_train_4.reshape(-1,4))\n",
    "\n",
    "\n",
    "model_5 = hmm.GaussianHMM(n_components=3)\n",
    "model_5.fit(X_train_5.reshape(-1,4))\n",
    "#model_5.score(X_train_5.reshape(-1,4))\n",
    "\n",
    "model_6 = hmm.GaussianHMM(n_components=3)\n",
    "model_6.fit(X_train_6.reshape(-1,4))\n",
    "#model_6.score(X_train_6.reshape(-1,4))\n",
    "\n",
    "\n",
    "model_7 = hmm.GaussianHMM(n_components=3)\n",
    "model_7.fit(X_train_7.reshape(-1,4))\n",
    "#model_7.score(X_train_7.reshape(-1,4))"
   ]
  },
  {
   "cell_type": "markdown",
   "metadata": {},
   "source": [
    "</h3>Testing the Models</h3>"
   ]
  },
  {
   "cell_type": "code",
   "execution_count": 120,
   "metadata": {},
   "outputs": [],
   "source": [
    "scores = []\n",
    "predictions = []\n",
    "all_models = [model_1,model_2,model_3,model_4,model_5,model_6,model_7]\n"
   ]
  },
  {
   "cell_type": "code",
   "execution_count": 121,
   "metadata": {},
   "outputs": [],
   "source": [
    "from numpy import ndarray\n",
    "\n",
    "\n",
    "def get_cls_idx(sequence,list_of_models = all_models):\n",
    "    scores = []\n",
    "    if type(sequence) is ndarray:\n",
    "        for model in all_models:\n",
    "            scores.append(model.score(sequence.reshape(-1,4)))\n",
    "        return np.argmax(scores)+1\n",
    "        \n"
   ]
  },
  {
   "cell_type": "code",
   "execution_count": 130,
   "metadata": {},
   "outputs": [
    {
     "name": "stdout",
     "output_type": "stream",
     "text": [
      "7 7 7 7 7 7 7 7 7 7 "
     ]
    }
   ],
   "source": [
    "for seq in X_test_7:\n",
    "    print(get_cls_idx(seq),end=' ')"
   ]
  },
  {
   "cell_type": "code",
   "execution_count": null,
   "metadata": {},
   "outputs": [],
   "source": []
  }
 ],
 "metadata": {
  "kernelspec": {
   "display_name": "Python 3.9.12 ('cse6363')",
   "language": "python",
   "name": "python3"
  },
  "language_info": {
   "codemirror_mode": {
    "name": "ipython",
    "version": 3
   },
   "file_extension": ".py",
   "mimetype": "text/x-python",
   "name": "python",
   "nbconvert_exporter": "python",
   "pygments_lexer": "ipython3",
   "version": "3.9.12"
  },
  "orig_nbformat": 4,
  "vscode": {
   "interpreter": {
    "hash": "937f47fbd9892c4f2d5be3e45357e46c87e469d993f9667e431ff2c55b4c812c"
   }
  }
 },
 "nbformat": 4,
 "nbformat_minor": 2
}
