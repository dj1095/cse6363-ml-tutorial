{
 "cells": [
  {
   "cell_type": "code",
   "execution_count": 88,
   "metadata": {},
   "outputs": [],
   "source": [
    "import pandas as pd\n",
    "import numpy as np \n",
    "import matplotlib.pyplot as plt\n",
    "\n",
    "from sklearn.model_selection import train_test_split\n",
    "from hmmlearn import hmm\n",
    "from numpy import ndarray"
   ]
  },
  {
   "cell_type": "markdown",
   "metadata": {},
   "source": [
    "<h3>Data Preprocessing</h3>"
   ]
  },
  {
   "cell_type": "code",
   "execution_count": 89,
   "metadata": {},
   "outputs": [
    {
     "data": {
      "text/html": [
       "<div>\n",
       "<style scoped>\n",
       "    .dataframe tbody tr th:only-of-type {\n",
       "        vertical-align: middle;\n",
       "    }\n",
       "\n",
       "    .dataframe tbody tr th {\n",
       "        vertical-align: top;\n",
       "    }\n",
       "\n",
       "    .dataframe thead th {\n",
       "        text-align: right;\n",
       "    }\n",
       "</style>\n",
       "<table border=\"1\" class=\"dataframe\">\n",
       "  <thead>\n",
       "    <tr style=\"text-align: right;\">\n",
       "      <th></th>\n",
       "      <th>LC_X_1</th>\n",
       "      <th>LC_X_2</th>\n",
       "      <th>LC_X_3</th>\n",
       "      <th>LC_X_4</th>\n",
       "      <th>LC_X_5</th>\n",
       "      <th>LC_X_6</th>\n",
       "      <th>LC_X_7</th>\n",
       "      <th>LC_X_8</th>\n",
       "      <th>LC_X_9</th>\n",
       "      <th>LC_X_10</th>\n",
       "      <th>...</th>\n",
       "      <th>RC_Y_21</th>\n",
       "      <th>RC_Y_22</th>\n",
       "      <th>RC_Y_23</th>\n",
       "      <th>RC_Y_24</th>\n",
       "      <th>RC_Y_25</th>\n",
       "      <th>RC_Y_26</th>\n",
       "      <th>RC_Y_27</th>\n",
       "      <th>RC_Y_28</th>\n",
       "      <th>RC_Y_29</th>\n",
       "      <th>RC_Y_30</th>\n",
       "    </tr>\n",
       "  </thead>\n",
       "  <tbody>\n",
       "    <tr>\n",
       "      <th>0</th>\n",
       "      <td>307</td>\n",
       "      <td>389</td>\n",
       "      <td>259</td>\n",
       "      <td>259</td>\n",
       "      <td>259</td>\n",
       "      <td>259</td>\n",
       "      <td>259</td>\n",
       "      <td>258</td>\n",
       "      <td>258</td>\n",
       "      <td>259</td>\n",
       "      <td>...</td>\n",
       "      <td>185</td>\n",
       "      <td>184</td>\n",
       "      <td>184</td>\n",
       "      <td>184</td>\n",
       "      <td>185</td>\n",
       "      <td>189</td>\n",
       "      <td>190</td>\n",
       "      <td>192</td>\n",
       "      <td>194</td>\n",
       "      <td>193</td>\n",
       "    </tr>\n",
       "    <tr>\n",
       "      <th>1</th>\n",
       "      <td>340</td>\n",
       "      <td>340</td>\n",
       "      <td>340</td>\n",
       "      <td>340</td>\n",
       "      <td>339</td>\n",
       "      <td>339</td>\n",
       "      <td>340</td>\n",
       "      <td>339</td>\n",
       "      <td>338</td>\n",
       "      <td>338</td>\n",
       "      <td>...</td>\n",
       "      <td>181</td>\n",
       "      <td>183</td>\n",
       "      <td>182</td>\n",
       "      <td>181</td>\n",
       "      <td>179</td>\n",
       "      <td>179</td>\n",
       "      <td>180</td>\n",
       "      <td>179</td>\n",
       "      <td>179</td>\n",
       "      <td>178</td>\n",
       "    </tr>\n",
       "    <tr>\n",
       "      <th>2</th>\n",
       "      <td>260</td>\n",
       "      <td>263</td>\n",
       "      <td>266</td>\n",
       "      <td>266</td>\n",
       "      <td>270</td>\n",
       "      <td>271</td>\n",
       "      <td>271</td>\n",
       "      <td>271</td>\n",
       "      <td>271</td>\n",
       "      <td>271</td>\n",
       "      <td>...</td>\n",
       "      <td>190</td>\n",
       "      <td>186</td>\n",
       "      <td>186</td>\n",
       "      <td>0</td>\n",
       "      <td>183</td>\n",
       "      <td>182</td>\n",
       "      <td>184</td>\n",
       "      <td>186</td>\n",
       "      <td>186</td>\n",
       "      <td>186</td>\n",
       "    </tr>\n",
       "    <tr>\n",
       "      <th>3</th>\n",
       "      <td>338</td>\n",
       "      <td>339</td>\n",
       "      <td>338</td>\n",
       "      <td>337</td>\n",
       "      <td>337</td>\n",
       "      <td>337</td>\n",
       "      <td>337</td>\n",
       "      <td>337</td>\n",
       "      <td>336</td>\n",
       "      <td>335</td>\n",
       "      <td>...</td>\n",
       "      <td>186</td>\n",
       "      <td>186</td>\n",
       "      <td>184</td>\n",
       "      <td>184</td>\n",
       "      <td>183</td>\n",
       "      <td>183</td>\n",
       "      <td>183</td>\n",
       "      <td>183</td>\n",
       "      <td>183</td>\n",
       "      <td>184</td>\n",
       "    </tr>\n",
       "    <tr>\n",
       "      <th>4</th>\n",
       "      <td>319</td>\n",
       "      <td>240</td>\n",
       "      <td>240</td>\n",
       "      <td>318</td>\n",
       "      <td>241</td>\n",
       "      <td>318</td>\n",
       "      <td>318</td>\n",
       "      <td>318</td>\n",
       "      <td>318</td>\n",
       "      <td>318</td>\n",
       "      <td>...</td>\n",
       "      <td>194</td>\n",
       "      <td>193</td>\n",
       "      <td>194</td>\n",
       "      <td>193</td>\n",
       "      <td>195</td>\n",
       "      <td>187</td>\n",
       "      <td>187</td>\n",
       "      <td>187</td>\n",
       "      <td>187</td>\n",
       "      <td>187</td>\n",
       "    </tr>\n",
       "    <tr>\n",
       "      <th>...</th>\n",
       "      <td>...</td>\n",
       "      <td>...</td>\n",
       "      <td>...</td>\n",
       "      <td>...</td>\n",
       "      <td>...</td>\n",
       "      <td>...</td>\n",
       "      <td>...</td>\n",
       "      <td>...</td>\n",
       "      <td>...</td>\n",
       "      <td>...</td>\n",
       "      <td>...</td>\n",
       "      <td>...</td>\n",
       "      <td>...</td>\n",
       "      <td>...</td>\n",
       "      <td>...</td>\n",
       "      <td>...</td>\n",
       "      <td>...</td>\n",
       "      <td>...</td>\n",
       "      <td>...</td>\n",
       "      <td>...</td>\n",
       "      <td>...</td>\n",
       "    </tr>\n",
       "    <tr>\n",
       "      <th>345</th>\n",
       "      <td>0</td>\n",
       "      <td>309</td>\n",
       "      <td>309</td>\n",
       "      <td>309</td>\n",
       "      <td>309</td>\n",
       "      <td>309</td>\n",
       "      <td>309</td>\n",
       "      <td>309</td>\n",
       "      <td>309</td>\n",
       "      <td>310</td>\n",
       "      <td>...</td>\n",
       "      <td>0</td>\n",
       "      <td>0</td>\n",
       "      <td>0</td>\n",
       "      <td>0</td>\n",
       "      <td>0</td>\n",
       "      <td>0</td>\n",
       "      <td>0</td>\n",
       "      <td>0</td>\n",
       "      <td>0</td>\n",
       "      <td>0</td>\n",
       "    </tr>\n",
       "    <tr>\n",
       "      <th>346</th>\n",
       "      <td>301</td>\n",
       "      <td>300</td>\n",
       "      <td>302</td>\n",
       "      <td>302</td>\n",
       "      <td>302</td>\n",
       "      <td>301</td>\n",
       "      <td>299</td>\n",
       "      <td>300</td>\n",
       "      <td>301</td>\n",
       "      <td>302</td>\n",
       "      <td>...</td>\n",
       "      <td>0</td>\n",
       "      <td>0</td>\n",
       "      <td>0</td>\n",
       "      <td>0</td>\n",
       "      <td>0</td>\n",
       "      <td>0</td>\n",
       "      <td>0</td>\n",
       "      <td>0</td>\n",
       "      <td>0</td>\n",
       "      <td>0</td>\n",
       "    </tr>\n",
       "    <tr>\n",
       "      <th>347</th>\n",
       "      <td>298</td>\n",
       "      <td>295</td>\n",
       "      <td>294</td>\n",
       "      <td>292</td>\n",
       "      <td>292</td>\n",
       "      <td>290</td>\n",
       "      <td>290</td>\n",
       "      <td>288</td>\n",
       "      <td>287</td>\n",
       "      <td>287</td>\n",
       "      <td>...</td>\n",
       "      <td>0</td>\n",
       "      <td>0</td>\n",
       "      <td>0</td>\n",
       "      <td>0</td>\n",
       "      <td>0</td>\n",
       "      <td>0</td>\n",
       "      <td>0</td>\n",
       "      <td>0</td>\n",
       "      <td>0</td>\n",
       "      <td>0</td>\n",
       "    </tr>\n",
       "    <tr>\n",
       "      <th>348</th>\n",
       "      <td>278</td>\n",
       "      <td>278</td>\n",
       "      <td>278</td>\n",
       "      <td>277</td>\n",
       "      <td>278</td>\n",
       "      <td>277</td>\n",
       "      <td>276</td>\n",
       "      <td>276</td>\n",
       "      <td>276</td>\n",
       "      <td>276</td>\n",
       "      <td>...</td>\n",
       "      <td>0</td>\n",
       "      <td>0</td>\n",
       "      <td>0</td>\n",
       "      <td>0</td>\n",
       "      <td>0</td>\n",
       "      <td>0</td>\n",
       "      <td>0</td>\n",
       "      <td>0</td>\n",
       "      <td>0</td>\n",
       "      <td>0</td>\n",
       "    </tr>\n",
       "    <tr>\n",
       "      <th>349</th>\n",
       "      <td>279</td>\n",
       "      <td>281</td>\n",
       "      <td>281</td>\n",
       "      <td>280</td>\n",
       "      <td>280</td>\n",
       "      <td>280</td>\n",
       "      <td>280</td>\n",
       "      <td>280</td>\n",
       "      <td>281</td>\n",
       "      <td>281</td>\n",
       "      <td>...</td>\n",
       "      <td>0</td>\n",
       "      <td>0</td>\n",
       "      <td>0</td>\n",
       "      <td>0</td>\n",
       "      <td>0</td>\n",
       "      <td>0</td>\n",
       "      <td>0</td>\n",
       "      <td>0</td>\n",
       "      <td>0</td>\n",
       "      <td>0</td>\n",
       "    </tr>\n",
       "  </tbody>\n",
       "</table>\n",
       "<p>350 rows × 120 columns</p>\n",
       "</div>"
      ],
      "text/plain": [
       "     LC_X_1  LC_X_2  LC_X_3  LC_X_4  LC_X_5  LC_X_6  LC_X_7  LC_X_8  LC_X_9  \\\n",
       "0       307     389     259     259     259     259     259     258     258   \n",
       "1       340     340     340     340     339     339     340     339     338   \n",
       "2       260     263     266     266     270     271     271     271     271   \n",
       "3       338     339     338     337     337     337     337     337     336   \n",
       "4       319     240     240     318     241     318     318     318     318   \n",
       "..      ...     ...     ...     ...     ...     ...     ...     ...     ...   \n",
       "345       0     309     309     309     309     309     309     309     309   \n",
       "346     301     300     302     302     302     301     299     300     301   \n",
       "347     298     295     294     292     292     290     290     288     287   \n",
       "348     278     278     278     277     278     277     276     276     276   \n",
       "349     279     281     281     280     280     280     280     280     281   \n",
       "\n",
       "     LC_X_10  ...  RC_Y_21  RC_Y_22  RC_Y_23  RC_Y_24  RC_Y_25  RC_Y_26  \\\n",
       "0        259  ...      185      184      184      184      185      189   \n",
       "1        338  ...      181      183      182      181      179      179   \n",
       "2        271  ...      190      186      186        0      183      182   \n",
       "3        335  ...      186      186      184      184      183      183   \n",
       "4        318  ...      194      193      194      193      195      187   \n",
       "..       ...  ...      ...      ...      ...      ...      ...      ...   \n",
       "345      310  ...        0        0        0        0        0        0   \n",
       "346      302  ...        0        0        0        0        0        0   \n",
       "347      287  ...        0        0        0        0        0        0   \n",
       "348      276  ...        0        0        0        0        0        0   \n",
       "349      281  ...        0        0        0        0        0        0   \n",
       "\n",
       "     RC_Y_27  RC_Y_28  RC_Y_29  RC_Y_30  \n",
       "0        190      192      194      193  \n",
       "1        180      179      179      178  \n",
       "2        184      186      186      186  \n",
       "3        183      183      183      184  \n",
       "4        187      187      187      187  \n",
       "..       ...      ...      ...      ...  \n",
       "345        0        0        0        0  \n",
       "346        0        0        0        0  \n",
       "347        0        0        0        0  \n",
       "348        0        0        0        0  \n",
       "349        0        0        0        0  \n",
       "\n",
       "[350 rows x 120 columns]"
      ]
     },
     "execution_count": 89,
     "metadata": {},
     "output_type": "execute_result"
    }
   ],
   "source": [
    "original_data = pd.read_csv('./dataset/Original_Dataset.csv')\n",
    "pre_processed_data = pd.concat([original_data.loc[:,'LC_X_1':'LC_Y_30'] , original_data.loc[:,'RC_X_1':'RC_Y_30']], join = 'outer', axis = 1)\n",
    "#dataset_with_target = pd.concat([pre_processed_data,original_data['Gesture']],join = 'outer', axis = 1)\n",
    "pre_processed_data\n"
   ]
  },
  {
   "cell_type": "code",
   "execution_count": 90,
   "metadata": {},
   "outputs": [],
   "source": [
    "pre_processed_data = pre_processed_data.to_numpy()"
   ]
  },
  {
   "cell_type": "code",
   "execution_count": 91,
   "metadata": {},
   "outputs": [
    {
     "data": {
      "text/plain": [
       "{'ZoomIn': 1,\n",
       " 'ZoomOut': 2,\n",
       " 'MoveLeft': 3,\n",
       " 'MoveRight': 4,\n",
       " 'MoveDown': 5,\n",
       " 'MoveUp': 6,\n",
       " 'Press': 7}"
      ]
     },
     "execution_count": 91,
     "metadata": {},
     "output_type": "execute_result"
    }
   ],
   "source": [
    "dict_cls = {}\n",
    "for count , val in enumerate(original_data['Gesture'].unique()):\n",
    "    dict_cls[val] = count+1\n",
    "\n",
    "dict_cls"
   ]
  },
  {
   "cell_type": "code",
   "execution_count": 92,
   "metadata": {},
   "outputs": [],
   "source": [
    "idx_cls =[]\n",
    "for x in original_data['Gesture']:\n",
    "    idx_cls.append(dict_cls[x])\n",
    "\n",
    "idx_cls = np.array(idx_cls)"
   ]
  },
  {
   "cell_type": "markdown",
   "metadata": {},
   "source": [
    "<h3>Normalization</h3>"
   ]
  },
  {
   "cell_type": "code",
   "execution_count": 93,
   "metadata": {},
   "outputs": [],
   "source": [
    "normalized_data = (pre_processed_data- np.min(pre_processed_data,axis=0))/(np.max(pre_processed_data,axis=0) - np.min(pre_processed_data,axis=0))"
   ]
  },
  {
   "cell_type": "code",
   "execution_count": 94,
   "metadata": {},
   "outputs": [
    {
     "data": {
      "text/plain": [
       "(350, 30, 4)"
      ]
     },
     "execution_count": 94,
     "metadata": {},
     "output_type": "execute_result"
    }
   ],
   "source": [
    "data = normalized_data.reshape(350,4,30).transpose((0,2,1))\n",
    "data.shape"
   ]
  },
  {
   "cell_type": "code",
   "execution_count": 95,
   "metadata": {},
   "outputs": [],
   "source": [
    "X_train_1,X_test_1,y_train_1,y_test_1 = train_test_split(data[0:50],idx_cls[0:50],test_size=0.2,random_state=122)\n",
    "X_train_2,X_test_2,y_train_2,y_test_2 = train_test_split(data[50:100],idx_cls[50:100],test_size=0.2,random_state=122)\n",
    "X_train_3,X_test_3,y_train_3,y_test_3 = train_test_split(data[100:150],idx_cls[100:150],test_size=0.2,random_state=122)\n",
    "X_train_4,X_test_4,y_train_4,y_test_4 = train_test_split(data[150:200],idx_cls[150:200],test_size=0.2,random_state=122)\n",
    "X_train_5,X_test_5,y_train_5,y_test_5 = train_test_split(data[200:250],idx_cls[200:250],test_size=0.2,random_state=122)\n",
    "X_train_6,X_test_6,y_train_6,y_test_6 = train_test_split(data[250:300],idx_cls[250:300],test_size=0.2,random_state=122)\n",
    "X_train_7,X_test_7,y_train_7,y_test_7 = train_test_split(data[300:350],idx_cls[300:350],test_size=0.2,random_state=122)"
   ]
  },
  {
   "cell_type": "markdown",
   "metadata": {},
   "source": [
    "<h3>Building the Model </h3>"
   ]
  },
  {
   "cell_type": "code",
   "execution_count": 96,
   "metadata": {},
   "outputs": [
    {
     "name": "stdout",
     "output_type": "stream",
     "text": [
      "Model_1_score: 7562.4830504889605\n",
      "Model_2_score: 7599.85491319462\n",
      "Model_3_score: 14290.6158925597\n",
      "Model_4_score: 14106.734421683284\n",
      "Model_5_score: 13468.208897088078\n",
      "Model_6_score: 14119.530555234032\n",
      "Model_7_score: 14685.54646025967\n"
     ]
    }
   ],
   "source": [
    "model_1 = hmm.GaussianHMM(n_components=5)\n",
    "Z1 = model_1.fit(X_train_1.reshape(-1,4))\n",
    "print('Model_1_score:',model_1.score(X_train_1.reshape(-1,4)))\n",
    "\n",
    "model_2 = hmm.GaussianHMM(n_components=5)\n",
    "model_2.fit(X_train_2.reshape(-1,4))\n",
    "print('Model_2_score:',model_2.score(X_train_2.reshape(-1,4)))\n",
    "\n",
    "model_3 = hmm.GaussianHMM(n_components=5)\n",
    "model_3.fit(X_train_3.reshape(-1,4))\n",
    "print('Model_3_score:',model_3.score(X_train_3.reshape(-1,4)))\n",
    "\n",
    "#model_3.score(X_train_3.reshape(-1,4))\n",
    "\n",
    "\n",
    "model_4 = hmm.GaussianHMM(n_components=5)\n",
    "model_4.fit(X_train_4.reshape(-1,4))\n",
    "print('Model_4_score:',model_4.score(X_train_4.reshape(-1,4)))\n",
    "\n",
    "\n",
    "\n",
    "model_5 = hmm.GaussianHMM(n_components=5)\n",
    "model_5.fit(X_train_5.reshape(-1,4))\n",
    "print('Model_5_score:',model_5.score(X_train_5.reshape(-1,4)))\n",
    "\n",
    "\n",
    "model_6 = hmm.GaussianHMM(n_components=5)\n",
    "model_6.fit(X_train_6.reshape(-1,4))\n",
    "print('Model_6_score:',model_6.score(X_train_6.reshape(-1,4)))\n",
    "\n",
    "model_7 = hmm.GaussianHMM(n_components=5)\n",
    "model_7.fit(X_train_7.reshape(-1,4))\n",
    "print('Model_7_score:',model_7.score(X_train_7.reshape(-1,4)))"
   ]
  },
  {
   "cell_type": "markdown",
   "metadata": {},
   "source": [
    "</h3>Evaluating Test Data</h3>"
   ]
  },
  {
   "cell_type": "code",
   "execution_count": 97,
   "metadata": {},
   "outputs": [],
   "source": [
    "scores = []\n",
    "all_models = [model_1,model_2,model_3,model_4,model_5,model_6,model_7]\n",
    "\n",
    "def predict_cls(sequence,list_of_models = all_models):\n",
    "    scores = []\n",
    "    if type(sequence) is ndarray:\n",
    "        for model in all_models:\n",
    "            scores.append(model.score(sequence.reshape(-1,4)))\n",
    "        return np.argmax(scores)+1\n",
    "\n",
    "def get_accuracy(y_prediction,y_actual ):\n",
    "    return np.sum(y_prediction == y_actual)/len(y_actual)\n"
   ]
  },
  {
   "cell_type": "code",
   "execution_count": 98,
   "metadata": {},
   "outputs": [],
   "source": [
    "X_test_data = np.vstack((X_test_1,X_test_2,X_test_3,X_test_4,X_test_5,X_test_6,X_test_7))\n",
    "y_test_data = np.hstack((y_test_1,y_test_2,y_test_3,y_test_4,y_test_5,y_test_6,y_test_7))"
   ]
  },
  {
   "cell_type": "code",
   "execution_count": 99,
   "metadata": {},
   "outputs": [
    {
     "name": "stdout",
     "output_type": "stream",
     "text": [
      "Accuracy obtained by taking the maximum likelihood of all 7 models over the test dataset: 81.43%\n"
     ]
    }
   ],
   "source": [
    "predictions = []\n",
    "for seq in X_test_data:\n",
    "    predictions.append(predict_cls(seq))\n",
    "\n",
    "predictions = np.array(predictions)\n",
    "accuracy = get_accuracy(predictions,y_test_data)\n",
    "print(f'''Accuracy obtained by taking the maximum likelihood of all 7 models over the test dataset: {round(accuracy*100,2)}%''')"
   ]
  },
  {
   "cell_type": "code",
   "execution_count": 100,
   "metadata": {},
   "outputs": [
    {
     "name": "stdout",
     "output_type": "stream",
     "text": [
      "Model-0 score - 4956.440644914285\n",
      "Model-1 score - -381079.904907924\n",
      "Model-2 score - -1553171.878947376\n",
      "Model-3 score - -432796.09207893227\n",
      "Model-4 score - -4148096.89901371\n",
      "Model-5 score - -155059.5939181114\n",
      "Model-6 score - 732.5902055176992\n"
     ]
    }
   ],
   "source": [
    "for i, model in enumerate(all_models):\n",
    "    print(f'Model-{i} score - {model.score(X_test_data.reshape(-1,4))}')"
   ]
  },
  {
   "cell_type": "markdown",
   "metadata": {},
   "source": [
    "<h3>Sampling from the HMM </h3>"
   ]
  },
  {
   "cell_type": "code",
   "execution_count": 101,
   "metadata": {},
   "outputs": [
    {
     "data": {
      "image/png": "[encoded data removed]",
      "text/plain": [
       "<Figure size 576x2160 with 7 Axes>"
      ]
     },
     "metadata": {
      "needs_background": "light"
     },
     "output_type": "display_data"
    }
   ],
   "source": [
    "fig = plt.figure(figsize=[8, 30])\n",
    "for i, model in enumerate(all_models):\n",
    "    feature_matrix,state_sequence = model.sample(100)\n",
    "    ax = fig.add_subplot(4, 2, i + 1)\n",
    "    ax.scatter(feature_matrix[:, 0], feature_matrix[:, 1])\n",
    "    ax.set_title(\"Model-{}\".format(i+1))"
   ]
  },
  {
   "cell_type": "code",
   "execution_count": 102,
   "metadata": {},
   "outputs": [
    {
     "data": {
      "image/png": "[encoded data removed]",
      "text/plain": [
       "<Figure size 432x288 with 1 Axes>"
      ]
     },
     "metadata": {
      "needs_background": "light"
     },
     "output_type": "display_data"
    }
   ],
   "source": [
    "#Plotting Training data with features\n",
    "plt.scatter(normalized_data.reshape(-1,4)[:1000, 0], normalized_data.reshape(-1,4)[:1000, 1])\n",
    "plt.show()"
   ]
  },
  {
   "cell_type": "markdown",
   "metadata": {},
   "source": [
    "<h3>Forward Algorithm [code obtained from professor <a href = 'https://github.com/ajdillhoff/CSE6363/blob/main/hmm/HMM_Tutorial.ipynb'>Github Page</a>]</h3>"
   ]
  },
  {
   "cell_type": "code",
   "execution_count": 103,
   "metadata": {},
   "outputs": [],
   "source": [
    "class HMM():\n",
    "    def __init__(self, pi, A, B):\n",
    "        \"\"\"Initializes an HMM initial state parameters, transition probabilities, and\n",
    "        observation probabilities.\n",
    "        \n",
    "        Parameters\n",
    "        ----------\n",
    "        pi : numpy array, shape = [n_states]\n",
    "             Initial state probabilities.\n",
    "        A : numpy array, shape = [n_states, n_states]\n",
    "            Transition matrix.\n",
    "        B : numpy array, shape = [n_states, n_observations]\n",
    "            Emission prbability matrix.\n",
    "        \"\"\"\n",
    "        self.pi_ = pi\n",
    "        self.A_ = A\n",
    "        self.B_ = B\n",
    "        self.n_states_ = A.shape[0]\n",
    "        \n",
    "    def forward(self, O):\n",
    "        \"\"\"Computes the likelihood of a given observation sequence.\n",
    "        \n",
    "        Parameters\n",
    "        ----------\n",
    "        O : numpy array, shape = [seq_length]\n",
    "        \"\"\"\n",
    "        seq_length = O.shape[0]\n",
    "        probs = np.zeros((self.n_states_, seq_length))\n",
    "        \n",
    "        # Initialization\n",
    "        for i in range(self.n_states_):\n",
    "            probs[i, 0] = self.pi_[i] * self.B_[i, O[0]]\n",
    "            \n",
    "        # Recursive step\n",
    "        for t in range(1, seq_length):\n",
    "            for s in range(self.n_states_):\n",
    "                for sp in range(self.n_states_):\n",
    "                    probs[s, t] += probs[sp, t-1] * self.A_[sp, s] * self.B_[s, O[t]]\n",
    "                    \n",
    "        print(probs)\n",
    "                    \n",
    "        # Termination step\n",
    "        probs = np.sum(probs[:, -1])\n",
    "        \n",
    "        return probs\n",
    "    \n",
    "    def viterbi(self, O):\n",
    "        \"\"\"Computes the most likely state sequence given an observation sequence.\n",
    "        \n",
    "        Parameters\n",
    "        ----------\n",
    "        O : numpy array, shape = [seq_length]\n",
    "        \"\"\"\n",
    "        seq_length = O.shape[0]\n",
    "        probs = np.zeros((self.n_states_, seq_length))\n",
    "        backpointer = np.zeros((self.n_states_, seq_length))\n",
    "        \n",
    "        # Initialization\n",
    "        for s in range(self.n_states_):\n",
    "            probs[s, 0] = self.pi_[s] * self.B_[s, O[0]]\n",
    "            backpointer[s, 0] = 0\n",
    "            \n",
    "        # Recursive step\n",
    "        for t in range(1, seq_length):\n",
    "            for s in range(self.n_states_):\n",
    "                temp = np.zeros((self.n_states_))\n",
    "                for sp in range(self.n_states_):\n",
    "                    temp[sp] = probs[sp, t-1] * self.A_[sp, s] * self.B_[s, O[t]]\n",
    "                    \n",
    "                probs[s, t] = np.max(temp)\n",
    "                backpointer[s, t] = np.argmax(temp)\n",
    "                \n",
    "        # Termination step\n",
    "        best_path_prob = np.max(probs[:, -1])\n",
    "        best_path_pointer = np.argmax(probs[:, -1])\n",
    "        \n",
    "        print(probs)\n",
    "        \n",
    "        bestpath = np.zeros((seq_length), dtype=np.int32)\n",
    "        bestpath[-1] = best_path_pointer\n",
    "        \n",
    "        for i in range(seq_length-2, -1, -1):\n",
    "            print(i)\n",
    "            bestpath[i] = backpointer[bestpath[i+1], i]\n",
    "                    \n",
    "        return bestpath, best_path_prob"
   ]
  },
  {
   "cell_type": "code",
   "execution_count": 104,
   "metadata": {},
   "outputs": [
    {
     "name": "stdout",
     "output_type": "stream",
     "text": [
      "[[5.28218680e-43 1.65322856e-02 3.18687490e-02 4.61994070e-02\n",
      "  5.96377121e-02 7.22606091e-02 8.41268369e-02 9.52853766e-02\n",
      "  1.05779418e-01 1.15648273e-01]\n",
      " [9.99668466e-01 9.66959553e-01 9.36224596e-01 9.07266088e-01\n",
      "  8.79930990e-01 8.54096045e-01 8.29658458e-01 8.06529866e-01\n",
      "  7.84632392e-01 7.63896013e-01]\n",
      " [0.00000000e+00 3.90667522e-20 3.52394877e-04 8.44908596e-04\n",
      "  1.38274033e-03 1.92396052e-03 2.45044710e-03 2.95479867e-03\n",
      "  3.43443428e-03 3.88892892e-03]\n",
      " [0.00000000e+00 1.91891783e-03 3.17371634e-03 3.98835301e-03\n",
      "  4.51172054e-03 4.84273224e-03 5.04705416e-03 5.16824976e-03\n",
      "  5.23519567e-03 5.26701311e-03]\n",
      " [7.15901045e-18 1.39352107e-02 2.74124561e-02 4.04270343e-02\n",
      "  5.29639844e-02 6.50122156e-02 7.65678532e-02 8.76337526e-02\n",
      "  9.82179657e-02 1.08332182e-01]]\n",
      "[[5.28218680e-43 1.65322856e-02 1.59913532e-02 1.54681200e-02\n",
      "  1.49620068e-02 1.44724535e-02 1.39989183e-02 1.35408771e-02\n",
      "  1.30978228e-02 1.26692652e-02]\n",
      " [9.99668466e-01 9.66959553e-01 9.35320869e-01 9.04717395e-01\n",
      "  8.75115259e-01 8.46481697e-01 8.18785020e-01 7.91994570e-01\n",
      "  7.66080698e-01 7.41014722e-01]\n",
      " [0.00000000e+00 3.90661752e-20 2.76351492e-04 2.67309338e-04\n",
      "  2.58563040e-04 2.50102920e-04 2.41919612e-04 2.34004061e-04\n",
      "  2.26347504e-04 2.18941468e-04]\n",
      " [0.00000000e+00 1.91891783e-03 1.85613130e-03 1.79539913e-03\n",
      "  1.73665410e-03 1.67983119e-03 1.62486752e-03 1.57170225e-03\n",
      "  1.52027653e-03 1.47053344e-03]\n",
      " [7.15901045e-18 1.39352107e-02 1.34792540e-02 1.30382160e-02\n",
      "  1.26116087e-02 1.21989599e-02 1.17998129e-02 1.14137258e-02\n",
      "  1.10402715e-02 1.06790364e-02]]\n",
      "8\n",
      "7\n",
      "6\n",
      "5\n",
      "4\n",
      "3\n",
      "2\n",
      "1\n",
      "0\n"
     ]
    }
   ],
   "source": [
    "posterior_probs = model_1.predict_proba(X_train_1.reshape(-1,4))\n",
    "dev_hmm = HMM(model_1.startprob_,model_1.transmat_,posterior_probs)\n",
    "probs = dev_hmm.forward(y_test_1)\n",
    "path, best_prob = dev_hmm.viterbi(y_test_1)"
   ]
  },
  {
   "cell_type": "code",
   "execution_count": 105,
   "metadata": {},
   "outputs": [
    {
     "data": {
      "text/plain": [
       "0.9970324101075305"
      ]
     },
     "execution_count": 105,
     "metadata": {},
     "output_type": "execute_result"
    }
   ],
   "source": [
    "probs"
   ]
  },
  {
   "cell_type": "code",
   "execution_count": 106,
   "metadata": {},
   "outputs": [
    {
     "data": {
      "text/plain": [
       "array([0, 1, 1, 1, 1, 1, 1, 1, 1, 1])"
      ]
     },
     "execution_count": 106,
     "metadata": {},
     "output_type": "execute_result"
    }
   ],
   "source": [
    "path"
   ]
  },
  {
   "cell_type": "code",
   "execution_count": 107,
   "metadata": {},
   "outputs": [
    {
     "data": {
      "text/plain": [
       "0.7410147215252503"
      ]
     },
     "execution_count": 107,
     "metadata": {},
     "output_type": "execute_result"
    }
   ],
   "source": [
    "best_prob"
   ]
  },
  {
   "cell_type": "code",
   "execution_count": null,
   "metadata": {},
   "outputs": [],
   "source": []
  },
  {
   "cell_type": "code",
   "execution_count": null,
   "metadata": {},
   "outputs": [],
   "source": []
  }
 ],
 "metadata": {
  "kernelspec": {
   "display_name": "Python 3.9.12 ('cse6363')",
   "language": "python",
   "name": "python3"
  },
  "language_info": {
   "codemirror_mode": {
    "name": "ipython",
    "version": 3
   },
   "file_extension": ".py",
   "mimetype": "text/x-python",
   "name": "python",
   "nbconvert_exporter": "python",
   "pygments_lexer": "ipython3",
   "version": "3.9.12"
  },
  "orig_nbformat": 4,
  "vscode": {
   "interpreter": {
    "hash": "937f47fbd9892c4f2d5be3e45357e46c87e469d993f9667e431ff2c55b4c812c"
   }
  }
 },
 "nbformat": 4,
 "nbformat_minor": 2
}
