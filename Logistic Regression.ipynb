{
 "cells": [
  {
   "cell_type": "code",
   "execution_count": 1,
   "id": "17f9fd4c",
   "metadata": {},
   "outputs": [],
   "source": [
    "import numpy as np\n",
    "from sklearn import datasets\n",
    "from itertools import combinations,permutations\n",
    "import matplotlib.pyplot as plt\n",
    "from sklearn.model_selection import train_test_split\n",
    "\n",
    "%matplotlib widget"
   ]
  },
  {
   "cell_type": "code",
   "execution_count": 2,
   "id": "912b8baa",
   "metadata": {},
   "outputs": [],
   "source": [
    "class LogisticRegression:\n",
    "    \n",
    "    def __init__(self,lr=0.001, n=100):\n",
    "        self.lr = lr\n",
    "        self.epochs = n\n",
    "        self.weights = None\n",
    "        self.bias = None\n",
    "        \n",
    "    def initiate_params(self,shape):\n",
    "        n_samples, n_features = shape\n",
    "        self.weights = np.zeros(n_features)\n",
    "        self.bias = 0\n",
    "        \n",
    "    def sigmoid_activation(self,x):\n",
    "        return 1/(1 + np.exp(-x))\n",
    "    \n",
    "    def update_parameters(self,dw,db):\n",
    "        self.weights -= self.lr * dw\n",
    "        self.bias -= self.lr * db\n",
    "        \n",
    "    def fit(self,X,y):\n",
    "        self.initiate_params(X.shape)\n",
    "        for _ in range(self.epochs):\n",
    "            model = np.dot(X,self.weights) + self.bias\n",
    "            y_pred = self.sigmoid_activation(model)\n",
    "            error = y_pred - y\n",
    "            dw = (1 / X.shape[0]) * np.dot(X.T,error)\n",
    "            db = (1 / X.shape[0]) * np.sum(error)\n",
    "            self.update_parameters(dw,db)\n",
    "        return self\n",
    "    \n",
    "    def predict(self,X):\n",
    "        y_pred = self.sigmoid_activation(np.dot(X,self.weights) + self.bias)\n",
    "        #print(y_pred)\n",
    "        pred_cls = [1 if i>0.60 else 0 for i in y_pred]\n",
    "        return pred_cls\n",
    "     \n",
    "    def accuracy(self,y_pred,y_actual):\n",
    "        y_pred = np.array(y_pred)\n",
    "        y_actual = np.array(y_actual)\n",
    "        return (y_pred == y_actual).sum()/len(y_actual)\n",
    "    \n",
    " \n",
    "        "
   ]
  },
  {
   "cell_type": "code",
   "execution_count": 3,
   "id": "85be5c35",
   "metadata": {},
   "outputs": [],
   "source": [
    "iris_dataset = datasets.load_iris()\n",
    "x = iris_dataset.data\n",
    "y = iris_dataset.target\n",
    "feature_names = iris_dataset.feature_names\n",
    "target_classes = iris_dataset.target_names\n"
   ]
  },
  {
   "cell_type": "code",
   "execution_count": 4,
   "id": "3cfcc8d0",
   "metadata": {},
   "outputs": [
    {
     "name": "stdout",
     "output_type": "stream",
     "text": [
      "Model-1 accuracy:0.8666666666666667\n",
      "Model-2 accuracy:0.5333333333333333\n",
      "Model-3 accuracy:0.4666666666666667\n"
     ]
    }
   ],
   "source": [
    "model1_y = np.copy(y)\n",
    "#0-->0\n",
    "#1-->1\n",
    "#2-->1\n",
    "model1_y[model1_y==2] = 1\n",
    "model1_train_split,model1_test_split,model1_train_y_split,model1_test_y_split = train_test_split(x,model1_y,test_size=0.1,random_state=123)\n",
    "model1 = LogisticRegression().fit(model1_train_split,model1_train_y_split)\n",
    "model1_y_pred = model1.predict(model1_test_split)\n",
    "print('Model-1 accuracy:{}'.format(model1.accuracy(model1_y_pred,model1_test_y_split)))\n",
    "\n",
    "model2_y_split = np.copy(y)\n",
    "#0-->1,2-->1,1-->0\n",
    "#1. 0-->3\n",
    "#2. 1-->0\n",
    "#3. 2-->1\n",
    "#3. 3-->1\n",
    "model2_y_split[model2_y_split==0] = 3\n",
    "model2_y_split[model2_y_split==1] = 0\n",
    "model2_y_split[model2_y_split==2] = 1\n",
    "model2_y_split[model2_y_split==3] = 1\n",
    "model2_train_split,model2_test_split,model2_train_y_split,model2_test_y_split = train_test_split(x,model2_y_split,test_size=0.1,random_state=123)\n",
    "model2 = LogisticRegression().fit(model2_train_split,model2_train_y_split)\n",
    "model2_y_pred = model1.predict(model2_test_split)\n",
    "print('Model-2 accuracy:{}'.format(model2.accuracy(model2_y_pred,model2_test_y_split)))\n",
    "\n",
    "model3_y_split = np.copy(y)\n",
    "#0-->1,2-->0,1-->1\n",
    "#1. 0-->1\n",
    "#2. 1-->1\n",
    "#3. 2-->0\n",
    "model3_y_split[model3_y_split==0] = 1\n",
    "model3_y_split[model3_y_split==2] = 0\n",
    "model3_train_split,model3_test_split,model3_train_y_split,model3_test_y_split = train_test_split(x,model3_y_split,test_size=0.1,random_state=123)\n",
    "model3 = LogisticRegression().fit(model3_train_split,model3_train_y_split)\n",
    "model3_y_pred = model3.predict(model3_test_split)\n",
    "print('Model-3 accuracy:{}'.format(model3.accuracy(model3_y_pred,model3_test_y_split)))\n"
   ]
  }
 ],
 "metadata": {
  "kernelspec": {
   "display_name": "Python [conda env:cse6363] *",
   "language": "python",
   "name": "conda-env-cse6363-py"
  },
  "language_info": {
   "codemirror_mode": {
    "name": "ipython",
    "version": 3
   },
   "file_extension": ".py",
   "mimetype": "text/x-python",
   "name": "python",
   "nbconvert_exporter": "python",
   "pygments_lexer": "ipython3",
   "version": "3.9.12"
  }
 },
 "nbformat": 4,
 "nbformat_minor": 5
}
