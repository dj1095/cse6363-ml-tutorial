{
 "cells": [
  {
   "cell_type": "code",
   "execution_count": 1,
   "id": "17f9fd4c",
   "metadata": {},
   "outputs": [],
   "source": [
    "import numpy as np\n",
    "from sklearn import datasets\n",
    "from itertools import combinations,permutations\n",
    "import matplotlib.pyplot as plt\n",
    "from sklearn.model_selection import train_test_split\n",
    "\n",
    "%matplotlib widget"
   ]
  },
  {
   "cell_type": "code",
   "execution_count": 42,
   "id": "912b8baa",
   "metadata": {},
   "outputs": [],
   "source": [
    "class LogisticRegression:\n",
    "    \n",
    "    def __init__(self,lr=0.001, n=100):\n",
    "        self.lr = lr\n",
    "        self.epochs = n\n",
    "        self.weights = None\n",
    "        self.bias = None\n",
    "        \n",
    "    def initiate_params(self,shape):\n",
    "        n_samples, n_features = shape\n",
    "        self.weights = np.zeros(n_features)\n",
    "        self.bias = 0\n",
    "        \n",
    "    def sigmoid_activation(self,x):\n",
    "        return 1/(1 + np.exp(-x))\n",
    "    \n",
    "    def update_parameters(self,dw,db):\n",
    "        self.weights -= self.lr * dw\n",
    "        self.bias -= self.lr * db\n",
    "        \n",
    "    def fit(self,X,y):\n",
    "        self.initiate_params(X.shape)\n",
    "        for _ in range(self.epochs):\n",
    "            model = np.dot(X,self.weights) + self.bias\n",
    "            y_pred = self.sigmoid_activation(model)\n",
    "            error = y_pred - y\n",
    "            dw = (1 / X.shape[0]) * np.dot(X.T,error)\n",
    "            db = (1 / X.shape[0]) * np.sum(error)\n",
    "            self.update_parameters(dw,db)\n",
    "        return self\n",
    "    \n",
    "    def predict(self,X):\n",
    "        y_pred = self.sigmoid_activation(np.dot(X,self.weights) + self.bias)\n",
    "        #print(y_pred)\n",
    "        pred_cls = [1 if i>0.80 else 0 for i in y_pred]\n",
    "        return pred_cls\n",
    "    \n",
    "    def accuracy(self, y_actual , y_pred):\n",
    "        count =0\n",
    "        for i,pred_cls in enumerate(y_pred):\n",
    "            if (pred_cls == 0 and y_actual[i] != 0) or (pred_cls != 0 and y_actual[i] == 0):\n",
    "                continue\n",
    "            count+=1\n",
    "        return count/len(y_actual)\n",
    "    \n",
    " \n",
    "        "
   ]
  },
  {
   "cell_type": "code",
   "execution_count": 43,
   "id": "2991f00c",
   "metadata": {},
   "outputs": [],
   "source": [
    "iris_dataset = datasets.load_iris()\n",
    "x = iris_dataset.data\n",
    "y = iris_dataset.target\n",
    "feature_names = iris_dataset.feature_names\n",
    "target_classes = iris_dataset.target_names\n",
    "train_split,test_split,train_y_split,test_y_split = train_test_split(x,y,test_size=0.1,random_state=123)"
   ]
  },
  {
   "cell_type": "code",
   "execution_count": 44,
   "id": "82d9dd46",
   "metadata": {},
   "outputs": [],
   "source": [
    "model = LogisticRegression().fit(train_split, train_y_split)\n"
   ]
  },
  {
   "cell_type": "code",
   "execution_count": 45,
   "id": "cbac74e3",
   "metadata": {},
   "outputs": [
    {
     "name": "stdout",
     "output_type": "stream",
     "text": [
      "0.8666666666666667\n"
     ]
    }
   ],
   "source": [
    "predicted_val = model.predict(test_split)\n",
    "print(model.accuracy(test_y_split,predicted_val))"
   ]
  },
  {
   "cell_type": "code",
   "execution_count": 46,
   "id": "6ae0f842",
   "metadata": {},
   "outputs": [
    {
     "data": {
      "text/plain": [
       "[1, 1, 1, 1, 1, 1, 1, 0, 0, 1, 1, 1, 1, 1, 1]"
      ]
     },
     "execution_count": 46,
     "metadata": {},
     "output_type": "execute_result"
    }
   ],
   "source": [
    "predicted_val"
   ]
  },
  {
   "cell_type": "code",
   "execution_count": 47,
   "id": "80070bb5",
   "metadata": {},
   "outputs": [
    {
     "data": {
      "text/plain": [
       "array([1, 2, 2, 1, 0, 2, 1, 0, 0, 1, 2, 0, 1, 2, 2])"
      ]
     },
     "execution_count": 47,
     "metadata": {},
     "output_type": "execute_result"
    }
   ],
   "source": [
    "test_y_split"
   ]
  },
  {
   "cell_type": "code",
   "execution_count": null,
   "id": "83c24f34",
   "metadata": {},
   "outputs": [],
   "source": []
  },
  {
   "cell_type": "code",
   "execution_count": null,
   "id": "dc2164a9",
   "metadata": {},
   "outputs": [],
   "source": []
  },
  {
   "cell_type": "code",
   "execution_count": null,
   "id": "0061b435",
   "metadata": {},
   "outputs": [],
   "source": []
  },
  {
   "cell_type": "code",
   "execution_count": null,
   "id": "0a392356",
   "metadata": {},
   "outputs": [],
   "source": []
  }
 ],
 "metadata": {
  "kernelspec": {
   "display_name": "Python [conda env:cse6363] *",
   "language": "python",
   "name": "conda-env-cse6363-py"
  },
  "language_info": {
   "codemirror_mode": {
    "name": "ipython",
    "version": 3
   },
   "file_extension": ".py",
   "mimetype": "text/x-python",
   "name": "python",
   "nbconvert_exporter": "python",
   "pygments_lexer": "ipython3",
   "version": "3.9.12"
  }
 },
 "nbformat": 4,
 "nbformat_minor": 5
}
