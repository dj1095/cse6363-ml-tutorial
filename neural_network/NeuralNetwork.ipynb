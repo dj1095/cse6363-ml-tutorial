{
 "cells": [
  {
   "cell_type": "code",
   "execution_count": 53,
   "id": "3d4b3115",
   "metadata": {},
   "outputs": [],
   "source": [
    "import numpy as np\n",
    "import matplotlib.pyplot as plt\n",
    "#import pickle\n",
    "import dill as pickle"
   ]
  },
  {
   "cell_type": "code",
   "execution_count": 54,
   "id": "93be99b3",
   "metadata": {},
   "outputs": [],
   "source": [
    "class Layer:\n",
    "    def __init__(self):\n",
    "        self.name = None\n",
    "        self.x = None\n",
    "        self.y = None\n",
    "    \n",
    "    def forward(self, x):\n",
    "        pass\n",
    "\n",
    "    def backward(self, gradient, lr):\n",
    "        pass"
   ]
  },
  {
   "cell_type": "code",
   "execution_count": 55,
   "id": "a8295458",
   "metadata": {},
   "outputs": [],
   "source": [
    "class LinearLayer(Layer):\n",
    "    \n",
    "    def __init__(self, x_size, y_size):\n",
    "        self.name = 'Linear_Layer'\n",
    "        self.weights = np.random.rand(y_size, x_size)\n",
    "        self.bias = np.random.rand(y_size, 1)\n",
    "    \n",
    "    def forward(self, x):\n",
    "        self.x = x\n",
    "        return np.dot(self.weights, self.x) + self.bias\n",
    "    \n",
    "    def backward(self, gradient, lr=0.01):\n",
    "        weights_grad = np.dot(gradient, self.x.T)\n",
    "        x_grad = np.dot(self.weights.T, gradient)\n",
    "        self.weights -= lr * weights_grad\n",
    "        self.bias -= lr * gradient\n",
    "        return x_grad\n",
    "    \n",
    "        "
   ]
  },
  {
   "cell_type": "code",
   "execution_count": 56,
   "id": "0a6986fd",
   "metadata": {},
   "outputs": [],
   "source": [
    "class SigmoidActivation(Layer):\n",
    "    def __init__(self):\n",
    "        self.name = 'Sigmoid_Activation'\n",
    "        self.sigmoid = lambda x : 1. / (1. + np.exp(-x))\n",
    "        self.sigmoid_grad = lambda x : self.sigmoid(x) * (1 - self.sigmoid(x))\n",
    "    \n",
    "    def forward(self, x):\n",
    "        self.x = x\n",
    "        return self.sigmoid(self.x)\n",
    "    \n",
    "    def backward(self, gradient, lr=0.01):\n",
    "        return np.multiply(gradient,self.sigmoid_grad(self.x))\n",
    "    "
   ]
  },
  {
   "cell_type": "code",
   "execution_count": 57,
   "id": "b29f3cc5",
   "metadata": {},
   "outputs": [],
   "source": [
    "class TanhActivation(Layer):\n",
    "    def __init__(self):\n",
    "        self.name = 'Tanh_Activation'\n",
    "        self.tanh = lambda x : np.tanh(x)\n",
    "        self.tanh_grad = lambda x : 1 - np.tanh(x)**2\n",
    "    \n",
    "    def forward(self, x):\n",
    "        self.x = x\n",
    "        return self.tanh(self.x)\n",
    "    \n",
    "    def backward(self, gradient, lr=0.01):\n",
    "        return np.multiply(gradient,self.tanh_grad(self.x))\n",
    "    "
   ]
  },
  {
   "cell_type": "code",
   "execution_count": 92,
   "id": "076a4a22",
   "metadata": {},
   "outputs": [],
   "source": [
    "class CrossEntropyLoss:\n",
    "    def __init__(self):\n",
    "        self.name = 'CrossEntropyLoss'\n",
    "\n",
    "    def cross_entropy(self, y_actual, y_pred):\n",
    "        return np.mean(-y_actual * np.log(y_pred))\n",
    "    \n",
    "    def cross_entropy_grad(self, y_actual, y_pred):\n",
    "        return y_actual - y_pred\n",
    "    \n",
    "    def forward(self, y_actual, y_pred):\n",
    "        self.y = y_pred\n",
    "        return self.cross_entropy(y_actual, y_pred)\n",
    "    \n",
    "    def backward(self, y_actual, y_pred):\n",
    "        return self.cross_entropy_grad(y_actual, y_pred)"
   ]
  },
  {
   "cell_type": "code",
   "execution_count": 68,
   "id": "ea31e536",
   "metadata": {},
   "outputs": [],
   "source": [
    "class Sequential(Layer):\n",
    "    def __init__(self, network=[]):\n",
    "        self.name = 'Sequential'\n",
    "        self.network = network\n",
    "        \n",
    "    def forward(self, x):\n",
    "        out = x\n",
    "        for layer in self.network:\n",
    "            #print(f'''layer-{layer.name} shape:{out.shape}''')\n",
    "            out = layer.forward(out)\n",
    "        return out\n",
    "\n",
    "    def backward(self, gradient, lr = 0.01):\n",
    "        grad = gradient\n",
    "        for layer in reversed(self.network):\n",
    "            grad = layer.backward(grad, lr)\n",
    "        return grad\n",
    "    \n",
    "        "
   ]
  },
  {
   "cell_type": "code",
   "execution_count": 98,
   "id": "5cc0c573",
   "metadata": {},
   "outputs": [],
   "source": [
    "\n",
    "def train(sequential_network, x_train, y_train, epochs = 2000, lr =0.01):\n",
    "    loss_list =[]\n",
    "    for itr in range(epochs):\n",
    "        error = 0\n",
    "        for x, y_actual in zip(x_train, y_train):\n",
    "            y_pred = sequential_network.forward(x)\n",
    "            #print('y---pred',y_pred)\n",
    "            loss = CrossEntropyLoss()\n",
    "            error+= loss.cross_entropy(y_actual, y_pred)\n",
    "            #print('error: ',error)\n",
    "            gradient_loss = loss.cross_entropy_grad(y_actual, y_pred)\n",
    "            sequential_network.backward(gradient_loss,lr=0.01)\n",
    "        error /= len(x_train)\n",
    "        loss_list.append(error)\n",
    "        #print(f\"{itr + 1}/{epochs}, error={error}\")\n",
    "    fig = plt.figure()\n",
    "    ax = fig.add_subplot(211)\n",
    "    ax.plot(np.arange(0,epochs),np.array(loss_list).reshape(-1))\n",
    "    ax.set_title('Training Loss')\n",
    "    return sequential_network\n",
    "\n",
    "def predict(model, x_test):\n",
    "    return model.forward(x_test)\n",
    "\n",
    "def save(model, filename):\n",
    "    pickle.dump(model,open(filename, 'wb'))\n",
    "\n",
    "def load(filename):\n",
    "    return pickle.load(open(filename, 'rb'))"
   ]
  },
  {
   "cell_type": "code",
   "execution_count": 99,
   "id": "01303f14",
   "metadata": {},
   "outputs": [
    {
     "data": {
      "image/png": "[encoded data removed]",
      "text/plain": [
       "<Figure size 432x288 with 1 Axes>"
      ]
     },
     "metadata": {
      "needs_background": "light"
     },
     "output_type": "display_data"
    },
    {
     "data": {
      "image/png": "[encoded data removed]",
      "text/plain": [
       "<Figure size 432x288 with 1 Axes>"
      ]
     },
     "metadata": {
      "needs_background": "light"
     },
     "output_type": "display_data"
    }
   ],
   "source": [
    "# Define XOR inputs -- prepend a constant of 1 for bias multiplication\n",
    "samples = np.array([[0, 0],\n",
    "                    [0, 1],\n",
    "                    [1, 0],\n",
    "                    [1, 1]])\n",
    "targets = np.array([[0], [1], [1], [0]])\n",
    "\n",
    "fig = plt.figure()\n",
    "ax = fig.add_subplot(111)\n",
    "ax.scatter(samples[:, 0], samples[:, 1], c=targets)\n",
    "ax.set_title('Xor data distribution')\n",
    "\n",
    "model = Sequential([\n",
    "    LinearLayer(2,2),\n",
    "    SigmoidActivation(),\n",
    "    LinearLayer(2,1),\n",
    "    SigmoidActivation() ])\n",
    "\n",
    "trained_model = train(model,samples.reshape(4,2,1),targets.reshape(4,1,1),epochs=2000)\n"
   ]
  },
  {
   "cell_type": "markdown",
   "id": "a6d8ea08",
   "metadata": {},
   "source": [
    "<h3>Save and Load</h3>"
   ]
  },
  {
   "cell_type": "code",
   "execution_count": null,
   "id": "90cd0041",
   "metadata": {},
   "outputs": [],
   "source": [
    "filename = 'XOR_solved.w'\n",
    "save(trained_model,filename)\n",
    "mp = load(filename)"
   ]
  },
  {
   "cell_type": "code",
   "execution_count": 100,
   "id": "643ae302",
   "metadata": {},
   "outputs": [
    {
     "data": {
      "text/plain": [
       "array([[0.9856827]])"
      ]
     },
     "execution_count": 100,
     "metadata": {},
     "output_type": "execute_result"
    }
   ],
   "source": [
    "predict(trained_model,samples[0].reshape(2,1))"
   ]
  },
  {
   "cell_type": "code",
   "execution_count": 72,
   "id": "0bb00b04",
   "metadata": {},
   "outputs": [
    {
     "data": {
      "text/plain": [
       "array([[0.98511057]])"
      ]
     },
     "execution_count": 72,
     "metadata": {},
     "output_type": "execute_result"
    }
   ],
   "source": [
    "predict(mp,samples[0].reshape(2,1))"
   ]
  },
  {
   "cell_type": "markdown",
   "id": "5df41c56",
   "metadata": {},
   "source": [
    "# Hand Written Digit Recognition"
   ]
  },
  {
   "cell_type": "code",
   "execution_count": 75,
   "id": "efe907b5",
   "metadata": {},
   "outputs": [],
   "source": [
    "from sklearn.datasets import fetch_openml\n",
    "from sklearn.model_selection import train_test_split"
   ]
  },
  {
   "cell_type": "code",
   "execution_count": 76,
   "id": "fd933428",
   "metadata": {},
   "outputs": [],
   "source": [
    "mnist_samples, mnist_targets = fetch_openml(\"mnist_784\", version=1, return_X_y=True, as_frame=False)"
   ]
  },
  {
   "cell_type": "code",
   "execution_count": 114,
   "id": "e3a1533d",
   "metadata": {},
   "outputs": [],
   "source": [
    "def get_one_hot(targets, nb_classes):\n",
    "    res = np.eye(nb_classes)[np.array(targets).reshape(-1)]\n",
    "    return res.reshape(list(targets.shape)+[nb_classes])\n",
    "\n",
    "def preprocess(samples, targets):\n",
    "    # reshape and normalization\n",
    "    samples = samples.reshape(samples.shape[0], 28 * 28, 1)\n",
    "    samples = samples.astype(\"float32\") / 255\n",
    "    #convery to numbers\n",
    "    conv_targets = [int(num) for num in targets]\n",
    "    conv_targets = np.array(conv_targets)\n",
    "    targets_vect = get_one_hot(conv_targets,10)\n",
    "    targets_vect = targets_vect.reshape(targets_vect.shape[0], 10, 1)\n",
    "    return samples, targets_vect\n",
    "\n",
    "def predict_mnist(model, x_test):\n",
    "    return model.forward(x_test)\n",
    "\n",
    "\n",
    "X, Y = preprocess(mnist_samples,mnist_targets)\n"
   ]
  },
  {
   "cell_type": "code",
   "execution_count": 80,
   "id": "2add6bd0",
   "metadata": {},
   "outputs": [],
   "source": [
    "train_split,test_split,train_y_split,test_y_split = train_test_split(X, Y,test_size=0.1, random_state=123)"
   ]
  },
  {
   "cell_type": "code",
   "execution_count": 118,
   "id": "77261a96",
   "metadata": {},
   "outputs": [
    {
     "name": "stdout",
     "output_type": "stream",
     "text": [
      "(63000, 784, 1)\n",
      "(63000, 10, 1)\n",
      "(7000, 784, 1)\n",
      "(7000, 10, 1)\n"
     ]
    }
   ],
   "source": [
    "print(train_split.shape)\n",
    "print(train_y_split.shape)\n",
    "print(test_split.shape)\n",
    "print(test_y_split.shape)"
   ]
  },
  {
   "cell_type": "code",
   "execution_count": 133,
   "id": "34dfa861",
   "metadata": {},
   "outputs": [
    {
     "data": {
      "image/png": "[encoded data removed]",
      "text/plain": [
       "<Figure size 432x288 with 1 Axes>"
      ]
     },
     "metadata": {
      "needs_background": "light"
     },
     "output_type": "display_data"
    }
   ],
   "source": [
    "mnist_model_1 = model = Sequential([\n",
    "    LinearLayer(28*28,40),\n",
    "    SigmoidActivation(),\n",
    "    LinearLayer(40,10),\n",
    "    SigmoidActivation()])\n",
    "\n",
    "trained_model = train(mnist_model_1,train_split,train_y_split,epochs=100)"
   ]
  },
  {
   "cell_type": "code",
   "execution_count": 134,
   "id": "d6e7a4ed",
   "metadata": {},
   "outputs": [
    {
     "data": {
      "text/plain": [
       "array([[1.        ],\n",
       "       [0.99999999],\n",
       "       [1.        ],\n",
       "       [0.99999999],\n",
       "       [0.99999999],\n",
       "       [1.        ],\n",
       "       [0.99999991],\n",
       "       [0.99999999],\n",
       "       [0.99999999],\n",
       "       [1.        ]])"
      ]
     },
     "execution_count": 134,
     "metadata": {},
     "output_type": "execute_result"
    }
   ],
   "source": [
    "prediction = predict_mnist(trained_model,test_split[7])\n",
    "prediction"
   ]
  },
  {
   "cell_type": "code",
   "execution_count": null,
   "id": "460e73c1",
   "metadata": {},
   "outputs": [],
   "source": []
  },
  {
   "cell_type": "code",
   "execution_count": null,
   "id": "ce547a8a",
   "metadata": {},
   "outputs": [],
   "source": []
  },
  {
   "cell_type": "code",
   "execution_count": null,
   "id": "65f60ee9",
   "metadata": {},
   "outputs": [],
   "source": []
  }
 ],
 "metadata": {
  "kernelspec": {
   "display_name": "Python [conda env:cse6363] *",
   "language": "python",
   "name": "conda-env-cse6363-py"
  },
  "language_info": {
   "codemirror_mode": {
    "name": "ipython",
    "version": 3
   },
   "file_extension": ".py",
   "mimetype": "text/x-python",
   "name": "python",
   "nbconvert_exporter": "python",
   "pygments_lexer": "ipython3",
   "version": "3.9.12"
  }
 },
 "nbformat": 4,
 "nbformat_minor": 5
}
