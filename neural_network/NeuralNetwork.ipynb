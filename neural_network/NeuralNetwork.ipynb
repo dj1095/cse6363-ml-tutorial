{
 "cells": [
  {
   "cell_type": "code",
   "execution_count": 39,
   "id": "3d4b3115",
   "metadata": {},
   "outputs": [],
   "source": [
    "import numpy as np\n",
    "import matplotlib.pyplot as plt"
   ]
  },
  {
   "cell_type": "code",
   "execution_count": 40,
   "id": "7640e599",
   "metadata": {},
   "outputs": [],
   "source": [
    "class Layer:\n",
    "    def __init__(self):\n",
    "        self.x = None\n",
    "        self.y = None\n",
    "    \n",
    "    def forward(self, x):\n",
    "        pass\n",
    "\n",
    "    def backward(self, gradient, lr=0.01):\n",
    "        pass"
   ]
  },
  {
   "cell_type": "code",
   "execution_count": 41,
   "id": "a8295458",
   "metadata": {},
   "outputs": [],
   "source": [
    "class LinearLayer(Layer):\n",
    "    \n",
    "    def __init__(self, x_size, y_size):\n",
    "        self.weights = np.random.rand(y_size, x_size)\n",
    "        self.bias = np.random.rand(y_size, 1)\n",
    "    \n",
    "    def forward(self,x):\n",
    "        self.x = x\n",
    "        return np.dot(self.weights, self.x.T) + self.bias\n",
    "    \n",
    "    def backward(self,x,w):\n",
    "        return x\n",
    "    \n",
    "        "
   ]
  },
  {
   "cell_type": "code",
   "execution_count": 65,
   "id": "5cc0c573",
   "metadata": {},
   "outputs": [
    {
     "data": {
      "text/plain": [
       "'fig = plt.figure()\\nax = fig.add_subplot(111)\\nax.scatter(samples[:, 0], samples[:, 1], c=targets)'"
      ]
     },
     "execution_count": 65,
     "metadata": {},
     "output_type": "execute_result"
    }
   ],
   "source": [
    "# Define XOR inputs -- prepend a constant of 1 for bias multiplication\n",
    "samples = np.array([[0, 0],\n",
    "                    [0, 1],\n",
    "                    [1, 0],\n",
    "                    [1, 1]])\n",
    "targets = np.array([0, 1, 1, 0])\n",
    "\n",
    "'''fig = plt.figure()\n",
    "ax = fig.add_subplot(111)\n",
    "ax.scatter(samples[:, 0], samples[:, 1], c=targets)'''"
   ]
  },
  {
   "cell_type": "code",
   "execution_count": 71,
   "id": "643ae302",
   "metadata": {},
   "outputs": [
    {
     "name": "stdout",
     "output_type": "stream",
     "text": [
      "[[0.12199185 0.55140012 1.07661201 1.50602027]\n",
      " [0.3127422  1.11205098 1.04152129 1.84083008]\n",
      " [0.16582697 0.44670899 0.79511929 1.0760013 ]\n",
      " [0.82751767 1.07960597 1.5786696  1.8307579 ]]\n"
     ]
    }
   ],
   "source": [
    "n1 = LinearLayer(2,4)\n",
    "y = n1.forward(samples)\n",
    "print(y)"
   ]
  },
  {
   "cell_type": "code",
   "execution_count": 72,
   "id": "6e007ae5",
   "metadata": {},
   "outputs": [
    {
     "data": {
      "text/plain": [
       "array([[0.12199185],\n",
       "       [0.3127422 ],\n",
       "       [0.16582697],\n",
       "       [0.82751767]])"
      ]
     },
     "execution_count": 72,
     "metadata": {},
     "output_type": "execute_result"
    }
   ],
   "source": [
    "n1.bias"
   ]
  },
  {
   "cell_type": "code",
   "execution_count": 73,
   "id": "9540b617",
   "metadata": {},
   "outputs": [
    {
     "data": {
      "text/plain": [
       "array([[0.95462016, 0.42940826],\n",
       "       [0.7287791 , 0.79930878],\n",
       "       [0.62929231, 0.28088201],\n",
       "       [0.75115193, 0.2520883 ]])"
      ]
     },
     "execution_count": 73,
     "metadata": {},
     "output_type": "execute_result"
    }
   ],
   "source": [
    "n1.weights\n"
   ]
  },
  {
   "cell_type": "code",
   "execution_count": 74,
   "id": "d5323e6c",
   "metadata": {},
   "outputs": [
    {
     "data": {
      "text/plain": [
       "array([[0, 0],\n",
       "       [0, 1],\n",
       "       [1, 0],\n",
       "       [1, 1]])"
      ]
     },
     "execution_count": 74,
     "metadata": {},
     "output_type": "execute_result"
    }
   ],
   "source": [
    "n1.x"
   ]
  },
  {
   "cell_type": "code",
   "execution_count": null,
   "id": "0bb00b04",
   "metadata": {},
   "outputs": [],
   "source": []
  },
  {
   "cell_type": "code",
   "execution_count": null,
   "id": "3b63c9c9",
   "metadata": {},
   "outputs": [],
   "source": []
  }
 ],
 "metadata": {
  "kernelspec": {
   "display_name": "Python [conda env:cse6363] *",
   "language": "python",
   "name": "conda-env-cse6363-py"
  },
  "language_info": {
   "codemirror_mode": {
    "name": "ipython",
    "version": 3
   },
   "file_extension": ".py",
   "mimetype": "text/x-python",
   "name": "python",
   "nbconvert_exporter": "python",
   "pygments_lexer": "ipython3",
   "version": "3.9.12"
  }
 },
 "nbformat": 4,
 "nbformat_minor": 5
}
