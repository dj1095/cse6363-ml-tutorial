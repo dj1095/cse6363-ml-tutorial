{
 "cells": [
  {
   "cell_type": "code",
   "execution_count": 75,
   "id": "3d4b3115",
   "metadata": {},
   "outputs": [],
   "source": [
    "import numpy as np\n",
    "import matplotlib.pyplot as plt\n",
    "import dill as pickle\n",
    "\n",
    "from math import exp"
   ]
  },
  {
   "cell_type": "code",
   "execution_count": 32,
   "id": "93be99b3",
   "metadata": {},
   "outputs": [],
   "source": [
    "class Layer:\n",
    "    def __init__(self):\n",
    "        self.name = None\n",
    "        self.x = None\n",
    "        self.y = None\n",
    "    \n",
    "    def forward(self, x):\n",
    "        pass\n",
    "\n",
    "    def backward(self, gradient, lr):\n",
    "        pass"
   ]
  },
  {
   "cell_type": "code",
   "execution_count": 33,
   "id": "a8295458",
   "metadata": {},
   "outputs": [],
   "source": [
    "class LinearLayer(Layer):\n",
    "    \n",
    "    def __init__(self, x_size, y_size):\n",
    "        self.name = 'Linear_Layer'\n",
    "        self.weights = np.random.rand(y_size, x_size)\n",
    "        self.bias = np.random.rand(y_size, 1)\n",
    "    \n",
    "    def forward(self, x):\n",
    "        self.x = x\n",
    "        return np.dot(self.weights, self.x) + self.bias\n",
    "    \n",
    "    def backward(self, gradient, lr=0.01):\n",
    "        weights_grad = np.dot(gradient, self.x.T)\n",
    "        x_grad = np.dot(self.weights.T, gradient)\n",
    "        self.weights -= lr * weights_grad\n",
    "        self.bias -= lr * gradient\n",
    "        return x_grad\n",
    "    \n",
    "        "
   ]
  },
  {
   "cell_type": "code",
   "execution_count": 34,
   "id": "0a6986fd",
   "metadata": {},
   "outputs": [],
   "source": [
    "class SigmoidActivation(Layer):\n",
    "    def __init__(self):\n",
    "        self.name = 'Sigmoid_Activation'\n",
    "        self.sigmoid = lambda x : 1. / (1. + np.exp(-x))\n",
    "        self.sigmoid_grad = lambda x : self.sigmoid(x) * (1 - self.sigmoid(x))\n",
    "    \n",
    "    def forward(self, x):\n",
    "        self.x = x\n",
    "        return self.sigmoid(self.x)\n",
    "    \n",
    "    def backward(self, gradient, lr=0.01):\n",
    "        return np.multiply(gradient,self.sigmoid_grad(self.x))\n",
    "    "
   ]
  },
  {
   "cell_type": "code",
   "execution_count": 35,
   "id": "b29f3cc5",
   "metadata": {},
   "outputs": [],
   "source": [
    "class TanhActivation(Layer):\n",
    "    def __init__(self):\n",
    "        self.name = 'Tanh_Activation'\n",
    "        self.tanh = lambda x : np.tanh(x)\n",
    "        self.tanh_grad = lambda x : 1. - np.tanh(x)**2\n",
    "    \n",
    "    def forward(self, x):\n",
    "        self.x = x\n",
    "        return self.tanh(self.x)\n",
    "    \n",
    "    def backward(self, gradient, lr=0.01):\n",
    "        return np.multiply(gradient,self.tanh_grad(self.x))\n",
    "    "
   ]
  },
  {
   "cell_type": "code",
   "execution_count": 36,
   "id": "076a4a22",
   "metadata": {},
   "outputs": [],
   "source": [
    "class CrossEntropyLoss:\n",
    "    def __init__(self):\n",
    "        self.name = 'CrossEntropyLoss'\n",
    "\n",
    "    def cross_entropy(self, y_actual, y_pred):\n",
    "        return np.mean(-y_actual * np.log(y_pred))\n",
    "    \n",
    "    def cross_entropy_grad(self, y_actual, y_pred):\n",
    "        return y_actual - y_pred\n",
    "    \n",
    "    def forward(self, y_actual, y_pred):\n",
    "        self.y = y_pred\n",
    "        return self.cross_entropy(y_actual, y_pred)\n",
    "    \n",
    "    def backward(self, y_actual, y_pred):\n",
    "        return self.cross_entropy_grad(y_actual, y_pred)"
   ]
  },
  {
   "cell_type": "code",
   "execution_count": 79,
   "id": "72fd276c",
   "metadata": {},
   "outputs": [],
   "source": [
    "class SoftMax:\n",
    "    def __init__(self):\n",
    "        self.name = 'SoftMax'\n",
    "\n",
    "    def forward(self, y_pred):\n",
    "        cls_prob = np.exp(y_pred)\n",
    "        tot_prob = np.sum(cls_prob)\n",
    "        return cls_prob/tot_prob\n",
    "    \n",
    "    def backward(self, y_pred):\n",
    "        return y_pred"
   ]
  },
  {
   "cell_type": "code",
   "execution_count": 37,
   "id": "ea31e536",
   "metadata": {},
   "outputs": [],
   "source": [
    "class Sequential(Layer):\n",
    "    def __init__(self, network=[]):\n",
    "        self.name = 'Sequential'\n",
    "        self.network = network\n",
    "        \n",
    "    def forward(self, x):\n",
    "        out = x\n",
    "        for layer in self.network:\n",
    "            #print(f'''layer-{layer.name} shape:{out.shape}''')\n",
    "            out = layer.forward(out)\n",
    "        return out\n",
    "\n",
    "    def backward(self, gradient, lr = 0.01):\n",
    "        grad = gradient\n",
    "        for layer in reversed(self.network):\n",
    "            grad = layer.backward(grad, lr)\n",
    "        return grad\n",
    "    \n",
    "        "
   ]
  },
  {
   "cell_type": "code",
   "execution_count": 38,
   "id": "5cc0c573",
   "metadata": {},
   "outputs": [],
   "source": [
    "\n",
    "EARLY_STOP_LIMIT = 5\n",
    "\n",
    "def early_stopping_required(loss_list = []):\n",
    "    if len(loss_list) >= EARLY_STOP_LIMIT + 1:\n",
    "        recent_loss_val = loss_list[-1]\n",
    "        count = 0\n",
    "        for loss in loss_list[-5:]:\n",
    "            if recent_loss_val >= loss:\n",
    "                count+=1\n",
    "        if count == 5:\n",
    "            print('Stopping the model Training early')\n",
    "            return True\n",
    "        return False\n",
    "\n",
    "def train(sequential_network, x_train, y_train, epochs = 2000, lr =0.01):\n",
    "    loss_list =[]\n",
    "    for itr in range(epochs):\n",
    "        error = 0\n",
    "        for x, y_actual in zip(x_train, y_train):\n",
    "            y_pred = sequential_network.forward(x)\n",
    "            #print('y---pred',y_pred)\n",
    "            loss = CrossEntropyLoss()\n",
    "            error+= loss.cross_entropy(y_actual, y_pred)\n",
    "            #print('error: ',error)\n",
    "            gradient_loss = loss.cross_entropy_grad(y_actual, y_pred)\n",
    "            sequential_network.backward(gradient_loss,lr=0.01)\n",
    "        error /= len(x_train)\n",
    "        loss_list.append(error)\n",
    "        #Early Stopping\n",
    "        if early_stopping_required(loss_list):\n",
    "            epochs = itr + 1\n",
    "            print(f'''Early Stopping the Model Training at Epoch:{itr}''')\n",
    "            break\n",
    "        #print(f\"{itr + 1}/{epochs}, error={error}\")\n",
    "    fig = plt.figure()\n",
    "    ax = fig.add_subplot(211)\n",
    "    ax.plot(np.arange(0,epochs),np.array(loss_list).reshape(-1))\n",
    "    ax.set_title('Training Loss')\n",
    "    return sequential_network\n",
    "\n",
    "def predict(model, x_test,y_actual):\n",
    "    score = 0\n",
    "    for idx, test_sample in enumerate(x_test):\n",
    "        y_pred = model.forward(test_sample)\n",
    "        if np.argmax(y_pred) == np.argmax(y_actual[idx]):\n",
    "            score+=1\n",
    "    return score/len(y_actual)\n",
    "    \n",
    "\n",
    "def save(model, filename):\n",
    "    pickle.dump(model,open(filename, 'wb'))\n",
    "\n",
    "def load(filename):\n",
    "    return pickle.load(open(filename, 'rb'))"
   ]
  },
  {
   "cell_type": "code",
   "execution_count": 39,
   "id": "01303f14",
   "metadata": {},
   "outputs": [
    {
     "data": {
      "image/png": "[encoded data removed]",
      "text/plain": [
       "<Figure size 432x288 with 1 Axes>"
      ]
     },
     "metadata": {
      "needs_background": "light"
     },
     "output_type": "display_data"
    },
    {
     "data": {
      "image/png": "[encoded data removed]",
      "text/plain": [
       "<Figure size 432x288 with 1 Axes>"
      ]
     },
     "metadata": {
      "needs_background": "light"
     },
     "output_type": "display_data"
    }
   ],
   "source": [
    "# Define XOR inputs -- prepend a constant of 1 for bias multiplication\n",
    "samples = np.array([[0, 0],\n",
    "                    [0, 1],\n",
    "                    [1, 0],\n",
    "                    [1, 1]])\n",
    "targets = np.array([[0], [1], [1], [0]])\n",
    "\n",
    "fig = plt.figure()\n",
    "ax = fig.add_subplot(111)\n",
    "ax.scatter(samples[:, 0], samples[:, 1], c=targets)\n",
    "ax.set_title('Xor data distribution')\n",
    "\n",
    "model = Sequential([\n",
    "    LinearLayer(2,2),\n",
    "    SigmoidActivation(),\n",
    "    LinearLayer(2,1),\n",
    "    SigmoidActivation() ])\n",
    "\n",
    "trained_model = train(model,samples.reshape(4,2,1),targets.reshape(4,1,1),epochs=2000)\n"
   ]
  },
  {
   "cell_type": "markdown",
   "id": "a6d8ea08",
   "metadata": {},
   "source": [
    "<h3>Save and Load the Model</h3>"
   ]
  },
  {
   "cell_type": "code",
   "execution_count": 40,
   "id": "90cd0041",
   "metadata": {},
   "outputs": [],
   "source": [
    "filename = 'XOR_solved.w'\n",
    "save(trained_model,filename)\n",
    "mp = load(filename)"
   ]
  },
  {
   "cell_type": "code",
   "execution_count": 41,
   "id": "643ae302",
   "metadata": {},
   "outputs": [
    {
     "data": {
      "text/plain": [
       "1.0"
      ]
     },
     "execution_count": 41,
     "metadata": {},
     "output_type": "execute_result"
    }
   ],
   "source": [
    "predict(trained_model,samples.reshape(4,2,1),targets)"
   ]
  },
  {
   "cell_type": "code",
   "execution_count": 43,
   "id": "0bb00b04",
   "metadata": {},
   "outputs": [
    {
     "data": {
      "text/plain": [
       "1.0"
      ]
     },
     "execution_count": 43,
     "metadata": {},
     "output_type": "execute_result"
    }
   ],
   "source": [
    "predict(mp,samples.reshape(4,2,1),targets)"
   ]
  },
  {
   "cell_type": "markdown",
   "id": "5df41c56",
   "metadata": {},
   "source": [
    "# Hand Written Digit Recognition"
   ]
  },
  {
   "cell_type": "code",
   "execution_count": 13,
   "id": "efe907b5",
   "metadata": {},
   "outputs": [],
   "source": [
    "from sklearn.datasets import fetch_openml\n",
    "from sklearn.model_selection import train_test_split"
   ]
  },
  {
   "cell_type": "code",
   "execution_count": 14,
   "id": "fd933428",
   "metadata": {},
   "outputs": [],
   "source": [
    "mnist_samples, mnist_targets = fetch_openml(\"mnist_784\", version=1, return_X_y=True, as_frame=False)"
   ]
  },
  {
   "cell_type": "code",
   "execution_count": 84,
   "id": "e3a1533d",
   "metadata": {},
   "outputs": [],
   "source": [
    "def get_one_hot(targets, nb_classes):\n",
    "    res = np.eye(nb_classes)[np.array(targets).reshape(-1)]\n",
    "    return res.reshape(list(targets.shape)+[nb_classes])\n",
    "\n",
    "def preprocess(samples, targets):\n",
    "    # reshape and normalization\n",
    "    samples = samples.reshape(samples.shape[0], 28 * 28, 1)\n",
    "    samples = samples.astype(\"float32\") / 255\n",
    "    #convery to numbers\n",
    "    conv_targets = [int(num) for num in targets]\n",
    "    conv_targets = np.array(conv_targets)\n",
    "    targets_vect = get_one_hot(conv_targets,10)\n",
    "    targets_vect = targets_vect.reshape(targets_vect.shape[0], 10, 1)\n",
    "    return samples, targets_vect\n",
    "\n",
    "def predict_mnist(model, x_test,y_actual):\n",
    "    score = 0\n",
    "    for idx, test_sample in enumerate(x_test):\n",
    "        y_pred = model.forward(test_sample)\n",
    "        softmax = SoftMax()\n",
    "        probs = softmax.forward(y_pred)\n",
    "        #print(f'''Actual value - {np.argmax(y_actual[idx])} Predicted Value- {np.argmax(probs)}''')\n",
    "        if np.argmax(probs) == np.argmax(y_actual[idx]):\n",
    "            score+=1\n",
    "    return score/len(y_actual)\n",
    "\n",
    "def plot_validation_loss(model, x_val,y_val):\n",
    "    error_list = [] \n",
    "    for idx, val_sample in enumerate(x_val):\n",
    "        val_pred = model.forward(val_sample)\n",
    "        loss = CrossEntropyLoss()\n",
    "        error = loss.cross_entropy(val_pred, y_val[idx])\n",
    "        error_list.append(error)\n",
    "    fig = plt.figure()\n",
    "    ax = fig.add_subplot(221)\n",
    "    ax.plot(np.arange(0,len(x_val)),np.array(error_list).reshape(-1))\n",
    "    ax.set_title('Validation Loss')\n",
    "    \n",
    "\n",
    "X, Y = preprocess(mnist_samples,mnist_targets)\n"
   ]
  },
  {
   "cell_type": "code",
   "execution_count": 67,
   "id": "2add6bd0",
   "metadata": {},
   "outputs": [],
   "source": [
    "train_split,combine_split,train_y_split,combine_y_split = train_test_split(X, Y,test_size=0.2, random_state=123)\n",
    "val_split,test_split,val_y_split,test_y_split = train_test_split(combine_split, combine_y_split,test_size=0.5, random_state=123)"
   ]
  },
  {
   "cell_type": "code",
   "execution_count": 47,
   "id": "77261a96",
   "metadata": {},
   "outputs": [
    {
     "name": "stdout",
     "output_type": "stream",
     "text": [
      "*************************\n",
      "Train sample split shape (56000, 784, 1)\n",
      "Train targets split shape (56000, 10, 1)\n",
      "*************************\n",
      "Validation sample split shape (7000, 784, 1)\n",
      "Validation targets split shape (7000, 784, 1)\n",
      "*************************\n",
      "Test sample split shape (7000, 784, 1)\n",
      "Test targets split shape (7000, 784, 1)\n"
     ]
    }
   ],
   "source": [
    "# Training Sample\n",
    "print('*'*25)\n",
    "print('Train sample split shape', train_split.shape)\n",
    "print('Train targets split shape' ,train_y_split.shape)\n",
    "print('*'*25)\n",
    "# Validation Samples\n",
    "print('Validation sample split shape' ,val_split.shape)\n",
    "print('Validation targets split shape', val_split.shape)\n",
    "print('*'*25)\n",
    "# Test Samples\n",
    "print('Test sample split shape' ,test_split.shape)\n",
    "print('Test targets split shape', test_split.shape)"
   ]
  },
  {
   "cell_type": "code",
   "execution_count": 62,
   "id": "34dfa861",
   "metadata": {},
   "outputs": [
    {
     "name": "stdout",
     "output_type": "stream",
     "text": [
      "Stopping the model Training early\n",
      "Early Stopping the Model Training at Epoch:5\n"
     ]
    },
    {
     "data": {
      "image/png": "[encoded data removed]",
      "text/plain": [
       "<Figure size 432x288 with 1 Axes>"
      ]
     },
     "metadata": {
      "needs_background": "light"
     },
     "output_type": "display_data"
    },
    {
     "data": {
      "image/png": "[encoded data removed]",
      "text/plain": [
       "<Figure size 432x288 with 1 Axes>"
      ]
     },
     "metadata": {
      "needs_background": "light"
     },
     "output_type": "display_data"
    },
    {
     "data": {
      "image/png": "[encoded data removed]",
      "text/plain": [
       "<Figure size 432x288 with 1 Axes>"
      ]
     },
     "metadata": {
      "needs_background": "light"
     },
     "output_type": "display_data"
    }
   ],
   "source": [
    "mnist_model_1 = model = Sequential([\n",
    "    LinearLayer(28*28,40),\n",
    "    SigmoidActivation(),\n",
    "    LinearLayer(40,10),\n",
    "    SigmoidActivation()])\n",
    "\n",
    "mnist_model_2 = model = Sequential([\n",
    "    LinearLayer(28*28,40),\n",
    "    TanhActivation(),\n",
    "    LinearLayer(40,10),\n",
    "    TanhActivation()])\n",
    "\n",
    "mnist_model_3 = model = Sequential([\n",
    "    LinearLayer(28*28,40),\n",
    "    TanhActivation(),\n",
    "    LinearLayer(40,20),\n",
    "    TanhActivation(),\n",
    "    LinearLayer(20,10),\n",
    "    TanhActivation()])\n",
    "\n",
    "trained_model_1 = train(mnist_model_1,train_split,train_y_split,epochs=10, lr=0.01)\n",
    "\n",
    "trained_model_2 = train(mnist_model_2,train_split,train_y_split,epochs=10, lr=0.01)\n",
    "\n",
    "trained_model_3 = train(mnist_model_3,train_split,train_y_split,epochs=10, lr=0.01)"
   ]
  },
  {
   "cell_type": "code",
   "execution_count": 89,
   "id": "554351a2",
   "metadata": {},
   "outputs": [
    {
     "name": "stderr",
     "output_type": "stream",
     "text": [
      "C:\\Users\\durga\\AppData\\Local\\Temp\\ipykernel_21064\\1093031213.py:6: RuntimeWarning: divide by zero encountered in log\n",
      "  return np.mean(-y_actual * np.log(y_pred))\n",
      "C:\\Users\\durga\\AppData\\Local\\Temp\\ipykernel_21064\\1093031213.py:6: RuntimeWarning: divide by zero encountered in log\n",
      "  return np.mean(-y_actual * np.log(y_pred))\n",
      "C:\\Users\\durga\\AppData\\Local\\Temp\\ipykernel_21064\\1093031213.py:6: RuntimeWarning: divide by zero encountered in log\n",
      "  return np.mean(-y_actual * np.log(y_pred))\n"
     ]
    },
    {
     "data": {
      "image/png": "[encoded data removed]",
      "text/plain": [
       "<Figure size 432x288 with 1 Axes>"
      ]
     },
     "metadata": {
      "needs_background": "light"
     },
     "output_type": "display_data"
    },
    {
     "data": {
      "image/png": "[encoded data removed]",
      "text/plain": [
       "<Figure size 432x288 with 1 Axes>"
      ]
     },
     "metadata": {
      "needs_background": "light"
     },
     "output_type": "display_data"
    },
    {
     "data": {
      "image/png": "[encoded data removed]",
      "text/plain": [
       "<Figure size 432x288 with 1 Axes>"
      ]
     },
     "metadata": {
      "needs_background": "light"
     },
     "output_type": "display_data"
    }
   ],
   "source": [
    "plot_validation_loss(trained_model_1, val_split,val_y_split)\n",
    "plot_validation_loss(trained_model_2, val_split,val_y_split)\n",
    "plot_validation_loss(trained_model_3, val_split,val_y_split)"
   ]
  },
  {
   "cell_type": "code",
   "execution_count": 90,
   "id": "d6e7a4ed",
   "metadata": {},
   "outputs": [
    {
     "name": "stdout",
     "output_type": "stream",
     "text": [
      "Model_1 Score:  0.0907\n",
      "Model_2 Score:  0.093\n",
      "Model_3 Score:  0.1113\n"
     ]
    }
   ],
   "source": [
    "score_model_1 = predict_mnist(trained_model_1,test_split,test_y_split)\n",
    "print('Model_1 Score: ',round(score_model_1,4))\n",
    "\n",
    "score_model_2 = predict_mnist(trained_model_2,test_split,test_y_split)\n",
    "print('Model_2 Score: ',round(score_model_2,4))\n",
    "\n",
    "score_model_3 = predict_mnist(trained_model_3,test_split,test_y_split)\n",
    "print('Model_3 Score: ',round(score_model_3,4))\n"
   ]
  },
  {
   "cell_type": "code",
   "execution_count": 86,
   "id": "460e73c1",
   "metadata": {},
   "outputs": [],
   "source": [
    "mnist_file = 'mnist_solved.w'\n",
    "save(trained_model_2,mnist_file)\n"
   ]
  },
  {
   "cell_type": "code",
   "execution_count": 85,
   "id": "538eae95",
   "metadata": {},
   "outputs": [],
   "source": [
    "mnist_saved_model =  load(mnist_file )"
   ]
  },
  {
   "cell_type": "code",
   "execution_count": null,
   "id": "ce547a8a",
   "metadata": {},
   "outputs": [],
   "source": []
  },
  {
   "cell_type": "code",
   "execution_count": null,
   "id": "65f60ee9",
   "metadata": {},
   "outputs": [],
   "source": []
  },
  {
   "cell_type": "code",
   "execution_count": null,
   "id": "8b85ff93",
   "metadata": {},
   "outputs": [],
   "source": []
  },
  {
   "cell_type": "code",
   "execution_count": null,
   "id": "847e04b6",
   "metadata": {},
   "outputs": [],
   "source": []
  }
 ],
 "metadata": {
  "kernelspec": {
   "display_name": "Python [conda env:cse6363] *",
   "language": "python",
   "name": "conda-env-cse6363-py"
  },
  "language_info": {
   "codemirror_mode": {
    "name": "ipython",
    "version": 3
   },
   "file_extension": ".py",
   "mimetype": "text/x-python",
   "name": "python",
   "nbconvert_exporter": "python",
   "pygments_lexer": "ipython3",
   "version": "3.9.12"
  }
 },
 "nbformat": 4,
 "nbformat_minor": 5
}
